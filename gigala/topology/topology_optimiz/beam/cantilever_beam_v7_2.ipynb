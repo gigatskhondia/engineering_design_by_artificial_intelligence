{
 "cells": [
  {
   "cell_type": "code",
   "execution_count": 1,
   "metadata": {},
   "outputs": [
    {
     "name": "stderr",
     "output_type": "stream",
     "text": [
      "\n"
     ]
    }
   ],
   "source": [
    "import time\n",
    "import os\n",
    "import random\n",
    "import numpy as np                                                \n",
    "import matplotlib.pyplot as plt                                   \n",
    "import autograd, autograd.core, autograd.extend, autograd.tracer  \n",
    "import autograd.numpy as anp      \n",
    "import scipy, scipy.ndimage, scipy.sparse, scipy.sparse.linalg    \n",
    "                                                     \n",
    "import gym\n",
    "from gymnasium import spaces\n",
    "\n",
    "from stable_baselines3 import PPO, A2C\n",
    "from stable_baselines3.common.env_checker import check_env\n",
    "from stable_baselines3.common.monitor import Monitor\n",
    "from stable_baselines3.common.results_plotter import load_results, ts2xy\n",
    "from stable_baselines3.common.callbacks import BaseCallback\n",
    "from stable_baselines3.common import results_plotter\n",
    "from stable_baselines3.common.torch_layers import BaseFeaturesExtractor\n",
    "\n",
    "\n",
    "from skimage.transform import resize\n",
    "import torch as th\n",
    "import torch.nn as nn"
   ]
  },
  {
   "cell_type": "markdown",
   "metadata": {},
   "source": [
    "The below code is my RL extension to https://www.researchgate.net/publication/360698153_A_Tutorial_on_Structural_Optimization "
   ]
  },
  {
   "cell_type": "code",
   "execution_count": 2,
   "metadata": {},
   "outputs": [],
   "source": [
    "x0,y0=6,6"
   ]
  },
  {
   "cell_type": "code",
   "execution_count": 3,
   "metadata": {},
   "outputs": [],
   "source": [
    "class ObjectView(object):\n",
    "    def __init__(self, d): self.__dict__ = d\n",
    "    \n",
    "def get_args(normals, forces, density=1e-4):  # Manage the problem setup parameters\n",
    "    width = normals.shape[0] - 1\n",
    "    height = normals.shape[1] - 1\n",
    "    fixdofs = np.flatnonzero(normals.ravel())\n",
    "    alldofs = np.arange(2 * (width + 1) * (height + 1))\n",
    "    freedofs = np.sort(list(set(alldofs) - set(fixdofs)))\n",
    "    params = {\n",
    "      # material properties\n",
    "      'young': 1, 'young_min': 1e-9, 'poisson': 0.3, 'g': 0,\n",
    "      # constraints\n",
    "      'density': density, 'xmin': 0.001, 'xmax': 1.0,\n",
    "      # input parameters\n",
    "      'nelx': width, 'nely': height, 'mask': 1, 'penal': 3.0, 'filter_width': 1,\n",
    "      'freedofs': freedofs, 'fixdofs': fixdofs, 'forces': forces.ravel(),\n",
    "      # optimization parameters\n",
    "      'opt_steps': 80, 'print_every': 10}\n",
    "    return ObjectView(params)\n",
    "\n",
    "def mbb_beam(width = y0, height = x0, density=1e-4, y=1, x=0, rd=-1):  # textbook beam example\n",
    "    normals = np.zeros((width + 1, height + 1, 2))\n",
    "    normals[0, 0, x] = 1\n",
    "    normals[0, 0, y] = 1\n",
    "    normals[0, -1, x] = 1\n",
    "    normals[0, -1, y] = 1\n",
    "    forces = np.zeros((width + 1, height + 1, 2))\n",
    "    forces[-1, rd, y] = -1\n",
    "    return normals, forces, density"
   ]
  },
  {
   "cell_type": "code",
   "execution_count": 4,
   "metadata": {},
   "outputs": [],
   "source": [
    "def young_modulus(x, e_0, e_min, p=3):\n",
    "    return e_min + x ** p * (e_0 - e_min)\n",
    "\n",
    "def physical_density(x, args, volume_contraint=False, use_filter=True):\n",
    "    x = args.mask * x.reshape(args.nely, args.nelx)  # reshape from 1D to 2D\n",
    "    return gaussian_filter(x, args.filter_width) if use_filter else x  # maybe filter\n",
    "\n",
    "def mean_density(x, args, volume_contraint=False, use_filter=True):\n",
    "    return anp.mean(physical_density(x, args, volume_contraint, use_filter)) / anp.mean(args.mask)"
   ]
  },
  {
   "cell_type": "code",
   "execution_count": 5,
   "metadata": {},
   "outputs": [],
   "source": [
    "def objective(x, args, volume_contraint=False, use_filter=True):\n",
    "    kwargs = dict(penal=args.penal, e_min=args.young_min, e_0=args.young)\n",
    "    x_phys = physical_density(x, args, volume_contraint=volume_contraint, use_filter=use_filter)\n",
    "    ke     = get_stiffness_matrix(args.young, args.poisson)  # stiffness matrix\n",
    "    u      = displace(x_phys, ke, args.forces, args.freedofs, args.fixdofs, **kwargs)\n",
    "    c      = compliance(x_phys, u, ke, **kwargs)\n",
    "    return c"
   ]
  },
  {
   "cell_type": "code",
   "execution_count": 6,
   "metadata": {},
   "outputs": [],
   "source": [
    "@autograd.extend.primitive\n",
    "def gaussian_filter(x, width): # 2D gaussian blur/filter\n",
    "    return scipy.ndimage.gaussian_filter(x, width, mode='reflect')\n",
    "\n",
    "def _gaussian_filter_vjp(ans, x, width): # gives the gradient of orig. function w.r.t. x\n",
    "    del ans, x  # unused\n",
    "    return lambda g: gaussian_filter(g, width)\n",
    "autograd.extend.defvjp(gaussian_filter, _gaussian_filter_vjp)"
   ]
  },
  {
   "cell_type": "code",
   "execution_count": 7,
   "metadata": {},
   "outputs": [],
   "source": [
    "def compliance(x_phys, u, ke, *, penal=3, e_min=1e-9, e_0=1):\n",
    "    nely, nelx = x_phys.shape\n",
    "    ely, elx = anp.meshgrid(range(nely), range(nelx))  # x, y coords for the index map\n",
    "\n",
    "    n1 = (nely+1)*(elx+0) + (ely+0)  # nodes\n",
    "    n2 = (nely+1)*(elx+1) + (ely+0)\n",
    "    n3 = (nely+1)*(elx+1) + (ely+1)\n",
    "    n4 = (nely+1)*(elx+0) + (ely+1)\n",
    "    all_ixs = anp.array([2*n1, 2*n1+1, 2*n2, 2*n2+1, 2*n3, 2*n3+1, 2*n4, 2*n4+1])\n",
    "    u_selected = u[all_ixs]  # select from u matrix\n",
    "\n",
    "    ke_u = anp.einsum('ij,jkl->ikl', ke, u_selected)  # compute x^penal * U.T @ ke @ U\n",
    "    ce = anp.einsum('ijk,ijk->jk', u_selected, ke_u)\n",
    "    C = young_modulus(x_phys, e_0, e_min, p=penal) * ce.T\n",
    "    return anp.sum(C)\n",
    "\n",
    "def get_stiffness_matrix(e, nu):  # e=young's modulus, nu=poisson coefficient\n",
    "    k = anp.array([1/2-nu/6, 1/8+nu/8, -1/4-nu/12, -1/8+3*nu/8,\n",
    "                -1/4+nu/12, -1/8-nu/8, nu/6, 1/8-3*nu/8])\n",
    "    return e/(1-nu**2)*anp.array([[k[0], k[1], k[2], k[3], k[4], k[5], k[6], k[7]],\n",
    "                               [k[1], k[0], k[7], k[6], k[5], k[4], k[3], k[2]],\n",
    "                               [k[2], k[7], k[0], k[5], k[6], k[3], k[4], k[1]],\n",
    "                               [k[3], k[6], k[5], k[0], k[7], k[2], k[1], k[4]],\n",
    "                               [k[4], k[5], k[6], k[7], k[0], k[1], k[2], k[3]],\n",
    "                               [k[5], k[4], k[3], k[2], k[1], k[0], k[7], k[6]],\n",
    "                               [k[6], k[3], k[4], k[1], k[2], k[7], k[0], k[5]],\n",
    "                               [k[7], k[2], k[1], k[4], k[3], k[6], k[5], k[0]]])"
   ]
  },
  {
   "cell_type": "code",
   "execution_count": 8,
   "metadata": {},
   "outputs": [],
   "source": [
    "def get_k(stiffness, ke):\n",
    "    # Constructs sparse stiffness matrix k (used in the displace fn)\n",
    "    # First, get position of the nodes of each element in the stiffness matrix\n",
    "    nely, nelx = stiffness.shape\n",
    "    ely, elx = anp.meshgrid(range(nely), range(nelx))  # x, y coords\n",
    "    ely, elx = ely.reshape(-1, 1), elx.reshape(-1, 1)\n",
    "\n",
    "    n1 = (nely+1)*(elx+0) + (ely+0)\n",
    "    n2 = (nely+1)*(elx+1) + (ely+0)\n",
    "    n3 = (nely+1)*(elx+1) + (ely+1)\n",
    "    n4 = (nely+1)*(elx+0) + (ely+1)\n",
    "    edof = anp.array([2*n1, 2*n1+1, 2*n2, 2*n2+1, 2*n3, 2*n3+1, 2*n4, 2*n4+1])\n",
    "    edof = edof.T[0]\n",
    "    x_list = anp.repeat(edof, 8)  # flat list pointer of each node in an element\n",
    "    y_list = anp.tile(edof, 8).flatten()  # flat list pointer of each node in elem\n",
    "\n",
    "    # make the global stiffness matrix K\n",
    "    kd = stiffness.T.reshape(nelx*nely, 1, 1)\n",
    "    value_list = (kd * anp.tile(ke, kd.shape)).flatten()\n",
    "    return value_list, y_list, x_list\n",
    "\n",
    "def displace(x_phys, ke, forces, freedofs, fixdofs, *, penal=3, e_min=1e-9, e_0=1):\n",
    "    # Displaces the load x using finite element techniques (solve_coo=most of runtime)\n",
    "    stiffness = young_modulus(x_phys, e_0, e_min, p=penal)\n",
    "    k_entries, k_ylist, k_xlist = get_k(stiffness, ke)\n",
    "\n",
    "    index_map, keep, indices = _get_dof_indices(freedofs, fixdofs, k_ylist, k_xlist)\n",
    "\n",
    "    u_nonzero = solve_coo(k_entries[keep], indices, forces[freedofs], sym_pos=True)\n",
    "    u_values = anp.concatenate([u_nonzero, anp.zeros(len(fixdofs))])\n",
    "    return u_values[index_map]"
   ]
  },
  {
   "cell_type": "code",
   "execution_count": 9,
   "metadata": {},
   "outputs": [],
   "source": [
    "def _get_dof_indices(freedofs, fixdofs, k_xlist, k_ylist):\n",
    "    index_map = inverse_permutation(anp.concatenate([freedofs, fixdofs]))\n",
    "    keep = anp.isin(k_xlist, freedofs) & anp.isin(k_ylist, freedofs)\n",
    "    # Now we index an indexing array that is being indexed by the indices of k\n",
    "    i = index_map[k_ylist][keep]\n",
    "    j = index_map[k_xlist][keep]\n",
    "    return index_map, keep, anp.stack([i, j])\n",
    "\n",
    "def inverse_permutation(indices):  # reverses an index operation\n",
    "    inverse_perm = np.zeros(len(indices), dtype=anp.int64)\n",
    "    inverse_perm[indices] = np.arange(len(indices), dtype=anp.int64)\n",
    "    return inverse_perm"
   ]
  },
  {
   "cell_type": "code",
   "execution_count": 10,
   "metadata": {},
   "outputs": [],
   "source": [
    "def _get_solver(a_entries, a_indices, size, sym_pos):\n",
    "    # a is (usu.) symmetric positive; could solve 2x faster w/sksparse.cholmod.cholesky(a).solve_A\n",
    "    a = scipy.sparse.coo_matrix((a_entries, a_indices), shape=(size,)*2).tocsc()\n",
    "    return scipy.sparse.linalg.splu(a).solve\n",
    "\n",
    "@autograd.primitive\n",
    "def solve_coo(a_entries, a_indices, b, sym_pos=False):\n",
    "    solver = _get_solver(a_entries, a_indices, b.size, sym_pos)\n",
    "    return solver(b)\n",
    "\n",
    "def grad_solve_coo_entries(ans, a_entries, a_indices, b, sym_pos=False):\n",
    "    def jvp(grad_ans):\n",
    "        lambda_ = solve_coo(a_entries, a_indices if sym_pos else a_indices[::-1],\n",
    "                            grad_ans, sym_pos)\n",
    "        i, j = a_indices\n",
    "        return -lambda_[i] * ans[j]\n",
    "    return jvp\n",
    "\n",
    "autograd.extend.defvjp(solve_coo, grad_solve_coo_entries,\n",
    "                       lambda: print('err: gradient undefined'),\n",
    "                       lambda: print('err: gradient not implemented'))"
   ]
  },
  {
   "cell_type": "code",
   "execution_count": 11,
   "metadata": {},
   "outputs": [],
   "source": [
    "class Model:\n",
    "    def __init__(self, x):\n",
    "        self.flag_ = True\n",
    "#         self.flag_ = False\n",
    "        self.n, self.m = x.shape\n",
    "        self.actions_dic={} \n",
    "    \n",
    "        k=0\n",
    "        for i in range(self.n):\n",
    "            for j in range(self.m):\n",
    "                self.actions_dic[k]=(i,j)\n",
    "                k+=1\n",
    "        \n",
    "    def action_space_(self, action, X):\n",
    "        x,y=self.actions_dic[action]\n",
    "        X[x][y]=1\n",
    "        \n",
    "    def draw(self,X):  \n",
    "        plt.figure(dpi=50) \n",
    "        print('\\nFinal Cantilever beam design:')\n",
    "        plt.imshow(X) \n",
    "        plt.show()"
   ]
  },
  {
   "cell_type": "code",
   "execution_count": 12,
   "metadata": {},
   "outputs": [],
   "source": [
    "def fast_stopt(args, x):\n",
    "\n",
    "    reshape = lambda x: x.reshape(args.nely, args.nelx)\n",
    "    objective_fn = lambda x: objective(reshape(x), args)\n",
    "#     constraint = lambda params: mean_density(reshape(params), args) - args.density\n",
    "    constraint = lambda params: mean_density(reshape(params), args) \n",
    "    value = objective_fn(x)\n",
    "    const = constraint(x)\n",
    "    return value, const"
   ]
  },
  {
   "cell_type": "code",
   "execution_count": 13,
   "metadata": {},
   "outputs": [],
   "source": [
    "class CustomCNN(BaseFeaturesExtractor):\n",
    "    \"\"\"\n",
    "    :param observation_space: (gym.Space)\n",
    "    :param features_dim: (int) Number of features extracted.\n",
    "        This corresponds to the number of unit for the last layer.\n",
    "    \"\"\"\n",
    "\n",
    "    def __init__(self, observation_space: spaces.Box, features_dim: int = 256):\n",
    "        super().__init__(observation_space, features_dim)\n",
    "        # We assume CxHxW images (channels first)\n",
    "        # Re-ordering will be done by pre-preprocessing or wrapper\n",
    "        n_input_channels = observation_space.shape[0]\n",
    "        self.cnn = nn.Sequential(\n",
    "            nn.Conv2d(n_input_channels, 32, kernel_size=2, stride=1, padding=1),\n",
    "            nn.ReLU(),\n",
    "            nn.Conv2d(32, 64, kernel_size=2, stride=1, padding=0),\n",
    "            nn.ReLU(),\n",
    "            nn.Flatten(),\n",
    "        )\n",
    "\n",
    "        # Compute shape by doing one forward pass\n",
    "        with th.no_grad():\n",
    "            n_flatten = self.cnn(\n",
    "                th.as_tensor(observation_space.sample()[None]).float()\n",
    "            ).shape[1]\n",
    "\n",
    "        self.linear = nn.Sequential(nn.Linear(n_flatten, features_dim), nn.ReLU())\n",
    "\n",
    "    def forward(self, observations: th.Tensor) -> th.Tensor:\n",
    "        return self.linear(self.cnn(observations))"
   ]
  },
  {
   "cell_type": "code",
   "execution_count": 14,
   "metadata": {},
   "outputs": [],
   "source": [
    "policy_kwargs = dict(\n",
    "    features_extractor_class=CustomCNN,\n",
    "    features_extractor_kwargs=dict(features_dim=x0*y0),\n",
    ")"
   ]
  },
  {
   "cell_type": "code",
   "execution_count": 15,
   "metadata": {},
   "outputs": [],
   "source": [
    "class CantileverEnv(gym.Env):\n",
    "    \n",
    "    metadata = {\"render.modes\": [\"human\"]}\n",
    "\n",
    "    def __init__(self, normalized_image: bool = False):\n",
    "        super().__init__()\n",
    "        \n",
    "        \n",
    "        self.rd=0\n",
    "        self.args = get_args(*mbb_beam(rd=self.rd))\n",
    "        \n",
    "#         DIM=self.args.nelx*self.args.nely\n",
    "        N_DISCRETE_ACTIONS=self.args.nelx*self.args.nely\n",
    "        \n",
    "        self.action_space = spaces.Discrete(N_DISCRETE_ACTIONS)\n",
    "        self.observation_space = spaces.Box(low=0,\n",
    "                                            high=255,\n",
    "                                            shape=(self.args.nely, self.args.nelx, 1),\n",
    "                                           dtype=np.float64)\n",
    "        \n",
    " \n",
    "        self.x = anp.ones((self.args.nely, self.args.nelx))*self.args.density\n",
    "    \n",
    "        self.M=Model(self.x)\n",
    "        \n",
    "        self.reward=0\n",
    "        self.step_=0\n",
    "        self.needs_reset = True\n",
    "        \n",
    "    def step(self, action):\n",
    "        \n",
    "        self.args = get_args(*mbb_beam(rd=self.rd))\n",
    "        \n",
    "        self.M.action_space_(action, self.x)\n",
    "        \n",
    "        tmp, const = fast_stopt(self.args, self.x)\n",
    "        \n",
    "        self.step_+=1\n",
    "        \n",
    "        self.reward+=(1/tmp)**2\n",
    "       \n",
    "        done=False\n",
    "                  \n",
    "        if self.step_>self.M.n*self.M.m:\n",
    "            done=True\n",
    "            \n",
    "        if const>0.65:\n",
    "#             self.reward-=1\n",
    "            done=True\n",
    "            \n",
    "        if self.needs_reset:\n",
    "            raise RuntimeError(\"Tried to step environment that needs reset\")\n",
    "            \n",
    "        if done:\n",
    "            self.needs_reset = True\n",
    "                         \n",
    "                \n",
    "#         resized_x = resize(self.x, ( self.args.nely, self.args.nelx), anti_aliasing=True)  \n",
    "#         resized_x = (resized_x * 255).astype(np.uint8).reshape(x0,y0,1)\n",
    "\n",
    "        return self.x.reshape(x0,y0,1), self.reward, done, False, {}\n",
    "\n",
    "    def reset(self, seed=0):\n",
    "        \n",
    "        if not self.M.flag_:\n",
    "            self.rd=random.choice([0,2,-2])\n",
    "        else:\n",
    "            self.rd=-1\n",
    "           \n",
    "        self.x = anp.ones((self.args.nely, self.args.nelx))*self.args.density\n",
    "\n",
    "        self.reward=0\n",
    "        self.needs_reset = False\n",
    "        self.step_=0\n",
    "        \n",
    "#         resized_x = resize(self.x, (self.args.nely, self.args.nelx), anti_aliasing=True)\n",
    "#         resized_x = (resized_x * 255).astype(np.uint8).reshape(x0,y0,1)\n",
    "\n",
    "        return self.x.reshape(x0,y0,1), {}\n",
    "\n",
    "    def render(self, mode=\"human\"):\n",
    "        self.M.draw(self.x)    \n",
    "\n",
    "    def close(self):\n",
    "        pass"
   ]
  },
  {
   "cell_type": "code",
   "execution_count": 16,
   "metadata": {},
   "outputs": [],
   "source": [
    "class SaveOnBestTrainingRewardCallback(BaseCallback):\n",
    "    \"\"\"\n",
    "    Callback for saving a model (the check is done every ``check_freq`` steps)\n",
    "    based on the training reward (in practice, we recommend using ``EvalCallback``).\n",
    "\n",
    "    :param check_freq: (int)\n",
    "    :param log_dir: (str) Path to the folder where the model will be saved.\n",
    "      It must contains the file created by the ``Monitor`` wrapper.\n",
    "    :param verbose: (int)\n",
    "    \"\"\"\n",
    "\n",
    "    def __init__(self, check_freq: int, log_dir: str, verbose=1):\n",
    "        super().__init__(verbose)\n",
    "        self.check_freq = check_freq\n",
    "        self.log_dir = log_dir\n",
    "        self.save_path = os.path.join(log_dir, \"best_model\")\n",
    "        self.best_mean_reward = -np.inf\n",
    "\n",
    "    def _init_callback(self) -> None:\n",
    "        # Create folder if needed\n",
    "        if self.save_path is not None:\n",
    "            os.makedirs(self.save_path, exist_ok=True)\n",
    "\n",
    "    def _on_step(self) -> bool:\n",
    "        if self.n_calls % self.check_freq == 0:\n",
    "\n",
    "            # Retrieve training reward\n",
    "            x, y = ts2xy(load_results(self.log_dir), \"timesteps\")\n",
    "            if len(x) > 0:\n",
    "                # Mean training reward over the last 100 episodes\n",
    "                mean_reward = np.mean(y[-100:])\n",
    "                if self.verbose > 0:\n",
    "                    print(f\"Num timesteps: {self.num_timesteps}\")\n",
    "                    print(\n",
    "                        f\"Best mean reward: {self.best_mean_reward:.2f} - Last mean reward per episode: {mean_reward:.2f}\"\n",
    "                    )\n",
    "\n",
    "                # New best model, you could save the agent here\n",
    "                if mean_reward > self.best_mean_reward:\n",
    "                    self.best_mean_reward = mean_reward\n",
    "                    # Example for saving best model\n",
    "                    if self.verbose > 0:\n",
    "                        print(f\"Saving new best model to {self.save_path}.zip\")\n",
    "                    self.model.save(self.save_path)\n",
    "\n",
    "        return True"
   ]
  },
  {
   "cell_type": "code",
   "execution_count": 17,
   "metadata": {},
   "outputs": [],
   "source": [
    "# ts=5e6\n",
    "ts=1e6"
   ]
  },
  {
   "cell_type": "code",
   "execution_count": 18,
   "metadata": {
    "scrolled": true
   },
   "outputs": [
    {
     "name": "stderr",
     "output_type": "stream",
     "text": [
      "/Library/Frameworks/Python.framework/Versions/3.9/lib/python3.9/site-packages/stable_baselines3/common/env_checker.py:30: UserWarning: It seems that your observation  is an image but its `dtype` is (float64) whereas it has to be `np.uint8`. If your observation is not an image, we recommend you to flatten the observation to have only a 1D vector\n",
      "  warnings.warn(\n",
      "/Library/Frameworks/Python.framework/Versions/3.9/lib/python3.9/site-packages/stable_baselines3/common/env_checker.py:51: UserWarning: The minimal resolution for an image is 36x36 for the default `CnnPolicy`. You might need to use a custom features extractor cf. https://stable-baselines3.readthedocs.io/en/master/guide/custom_policy.html\n",
      "  warnings.warn(\n",
      "/Library/Frameworks/Python.framework/Versions/3.9/lib/python3.9/site-packages/gymnasium/core.py:311: UserWarning: \u001b[33mWARN: env.render_mode to get variables from other wrappers is deprecated and will be removed in v1.0, to get this variable you can do `env.unwrapped.render_mode` for environment variables or `env.get_wrapper_attr('render_mode')` that will search the reminding wrappers.\u001b[0m\n",
      "  logger.warn(\n",
      "/Library/Frameworks/Python.framework/Versions/3.9/lib/python3.9/site-packages/stable_baselines3/common/vec_env/base_vec_env.py:77: UserWarning: The `render_mode` attribute is not defined in your environment. It will be set to None.\n",
      "  warnings.warn(\"The `render_mode` attribute is not defined in your environment. It will be set to None.\")\n"
     ]
    }
   ],
   "source": [
    "# Create log dir\n",
    "log_dir = \"/tmp/gym7_2/\"\n",
    "os.makedirs(log_dir, exist_ok=True)\n",
    "\n",
    "# Create and wrap the environment\n",
    "env = CantileverEnv()\n",
    "# Logs will be saved in log_dir/monitor.csv\n",
    "env = Monitor(env, log_dir)\n",
    "check_env(env)"
   ]
  },
  {
   "cell_type": "code",
   "execution_count": 19,
   "metadata": {},
   "outputs": [],
   "source": [
    "# callback = SaveOnBestTrainingRewardCallback(check_freq=5000, log_dir=log_dir)\n",
    "callback = SaveOnBestTrainingRewardCallback(check_freq = 10000, log_dir = log_dir)"
   ]
  },
  {
   "cell_type": "code",
   "execution_count": 20,
   "metadata": {},
   "outputs": [
    {
     "name": "stdout",
     "output_type": "stream",
     "text": [
      "Num timesteps: 10000\n",
      "Best mean reward: -inf - Last mean reward per episode: 0.01\n",
      "Saving new best model to /tmp/gym7_2/best_model.zip\n",
      "Num timesteps: 20000\n",
      "Best mean reward: 0.01 - Last mean reward per episode: 0.01\n",
      "Num timesteps: 30000\n",
      "Best mean reward: 0.01 - Last mean reward per episode: 0.01\n",
      "Num timesteps: 40000\n",
      "Best mean reward: 0.01 - Last mean reward per episode: 0.01\n",
      "Num timesteps: 50000\n",
      "Best mean reward: 0.01 - Last mean reward per episode: 0.01\n",
      "Saving new best model to /tmp/gym7_2/best_model.zip\n",
      "Num timesteps: 60000\n",
      "Best mean reward: 0.01 - Last mean reward per episode: 0.01\n",
      "Saving new best model to /tmp/gym7_2/best_model.zip\n",
      "Num timesteps: 70000\n",
      "Best mean reward: 0.01 - Last mean reward per episode: 0.02\n",
      "Saving new best model to /tmp/gym7_2/best_model.zip\n",
      "Num timesteps: 80000\n",
      "Best mean reward: 0.02 - Last mean reward per episode: 0.02\n",
      "Saving new best model to /tmp/gym7_2/best_model.zip\n",
      "Num timesteps: 90000\n",
      "Best mean reward: 0.02 - Last mean reward per episode: 0.03\n",
      "Saving new best model to /tmp/gym7_2/best_model.zip\n",
      "Num timesteps: 100000\n",
      "Best mean reward: 0.03 - Last mean reward per episode: 0.03\n",
      "Saving new best model to /tmp/gym7_2/best_model.zip\n",
      "Num timesteps: 110000\n",
      "Best mean reward: 0.03 - Last mean reward per episode: 0.03\n",
      "Saving new best model to /tmp/gym7_2/best_model.zip\n",
      "Num timesteps: 120000\n",
      "Best mean reward: 0.03 - Last mean reward per episode: 0.04\n",
      "Saving new best model to /tmp/gym7_2/best_model.zip\n",
      "Num timesteps: 130000\n",
      "Best mean reward: 0.04 - Last mean reward per episode: 0.05\n",
      "Saving new best model to /tmp/gym7_2/best_model.zip\n",
      "Num timesteps: 140000\n",
      "Best mean reward: 0.05 - Last mean reward per episode: 0.06\n",
      "Saving new best model to /tmp/gym7_2/best_model.zip\n",
      "Num timesteps: 150000\n",
      "Best mean reward: 0.06 - Last mean reward per episode: 0.07\n",
      "Saving new best model to /tmp/gym7_2/best_model.zip\n",
      "Num timesteps: 160000\n",
      "Best mean reward: 0.07 - Last mean reward per episode: 0.08\n",
      "Saving new best model to /tmp/gym7_2/best_model.zip\n",
      "Num timesteps: 170000\n",
      "Best mean reward: 0.08 - Last mean reward per episode: 0.08\n",
      "Saving new best model to /tmp/gym7_2/best_model.zip\n",
      "Num timesteps: 180000\n",
      "Best mean reward: 0.08 - Last mean reward per episode: 0.10\n",
      "Saving new best model to /tmp/gym7_2/best_model.zip\n",
      "Num timesteps: 190000\n",
      "Best mean reward: 0.10 - Last mean reward per episode: 0.11\n",
      "Saving new best model to /tmp/gym7_2/best_model.zip\n",
      "Num timesteps: 200000\n",
      "Best mean reward: 0.11 - Last mean reward per episode: 0.12\n",
      "Saving new best model to /tmp/gym7_2/best_model.zip\n",
      "Num timesteps: 210000\n",
      "Best mean reward: 0.12 - Last mean reward per episode: 0.14\n",
      "Saving new best model to /tmp/gym7_2/best_model.zip\n",
      "Num timesteps: 220000\n",
      "Best mean reward: 0.14 - Last mean reward per episode: 0.15\n",
      "Saving new best model to /tmp/gym7_2/best_model.zip\n",
      "Num timesteps: 230000\n",
      "Best mean reward: 0.15 - Last mean reward per episode: 0.16\n",
      "Saving new best model to /tmp/gym7_2/best_model.zip\n",
      "Num timesteps: 240000\n",
      "Best mean reward: 0.16 - Last mean reward per episode: 0.16\n",
      "Saving new best model to /tmp/gym7_2/best_model.zip\n",
      "Num timesteps: 250000\n",
      "Best mean reward: 0.16 - Last mean reward per episode: 0.17\n",
      "Saving new best model to /tmp/gym7_2/best_model.zip\n",
      "Num timesteps: 260000\n",
      "Best mean reward: 0.17 - Last mean reward per episode: 0.17\n",
      "Num timesteps: 270000\n",
      "Best mean reward: 0.17 - Last mean reward per episode: 0.18\n",
      "Saving new best model to /tmp/gym7_2/best_model.zip\n",
      "Num timesteps: 280000\n",
      "Best mean reward: 0.18 - Last mean reward per episode: 0.17\n",
      "Num timesteps: 290000\n",
      "Best mean reward: 0.18 - Last mean reward per episode: 0.17\n",
      "Num timesteps: 300000\n",
      "Best mean reward: 0.18 - Last mean reward per episode: 0.17\n",
      "Num timesteps: 310000\n",
      "Best mean reward: 0.18 - Last mean reward per episode: 0.16\n",
      "Num timesteps: 320000\n",
      "Best mean reward: 0.18 - Last mean reward per episode: 0.18\n",
      "Num timesteps: 330000\n",
      "Best mean reward: 0.18 - Last mean reward per episode: 0.18\n",
      "Saving new best model to /tmp/gym7_2/best_model.zip\n",
      "Num timesteps: 340000\n",
      "Best mean reward: 0.18 - Last mean reward per episode: 0.18\n",
      "Num timesteps: 350000\n",
      "Best mean reward: 0.18 - Last mean reward per episode: 0.17\n",
      "Num timesteps: 360000\n",
      "Best mean reward: 0.18 - Last mean reward per episode: 0.18\n",
      "Num timesteps: 370000\n",
      "Best mean reward: 0.18 - Last mean reward per episode: 0.18\n",
      "Num timesteps: 380000\n",
      "Best mean reward: 0.18 - Last mean reward per episode: 0.19\n",
      "Saving new best model to /tmp/gym7_2/best_model.zip\n",
      "Num timesteps: 390000\n",
      "Best mean reward: 0.19 - Last mean reward per episode: 0.19\n",
      "Num timesteps: 400000\n",
      "Best mean reward: 0.19 - Last mean reward per episode: 0.17\n",
      "Num timesteps: 410000\n",
      "Best mean reward: 0.19 - Last mean reward per episode: 0.20\n",
      "Saving new best model to /tmp/gym7_2/best_model.zip\n",
      "Num timesteps: 420000\n",
      "Best mean reward: 0.20 - Last mean reward per episode: 0.19\n",
      "Num timesteps: 430000\n",
      "Best mean reward: 0.20 - Last mean reward per episode: 0.19\n",
      "Num timesteps: 440000\n",
      "Best mean reward: 0.20 - Last mean reward per episode: 0.18\n",
      "Num timesteps: 450000\n",
      "Best mean reward: 0.20 - Last mean reward per episode: 0.18\n",
      "Num timesteps: 460000\n",
      "Best mean reward: 0.20 - Last mean reward per episode: 0.20\n",
      "Saving new best model to /tmp/gym7_2/best_model.zip\n",
      "Num timesteps: 470000\n",
      "Best mean reward: 0.20 - Last mean reward per episode: 0.19\n",
      "Num timesteps: 480000\n",
      "Best mean reward: 0.20 - Last mean reward per episode: 0.20\n",
      "Num timesteps: 490000\n",
      "Best mean reward: 0.20 - Last mean reward per episode: 0.19\n",
      "Num timesteps: 500000\n",
      "Best mean reward: 0.20 - Last mean reward per episode: 0.19\n",
      "Num timesteps: 510000\n",
      "Best mean reward: 0.20 - Last mean reward per episode: 0.17\n",
      "Num timesteps: 520000\n",
      "Best mean reward: 0.20 - Last mean reward per episode: 0.20\n",
      "Num timesteps: 530000\n",
      "Best mean reward: 0.20 - Last mean reward per episode: 0.18\n",
      "Num timesteps: 540000\n",
      "Best mean reward: 0.20 - Last mean reward per episode: 0.19\n",
      "Num timesteps: 550000\n",
      "Best mean reward: 0.20 - Last mean reward per episode: 0.19\n",
      "Num timesteps: 560000\n",
      "Best mean reward: 0.20 - Last mean reward per episode: 0.18\n",
      "Num timesteps: 570000\n",
      "Best mean reward: 0.20 - Last mean reward per episode: 0.19\n",
      "Num timesteps: 580000\n",
      "Best mean reward: 0.20 - Last mean reward per episode: 0.19\n",
      "Num timesteps: 590000\n",
      "Best mean reward: 0.20 - Last mean reward per episode: 0.19\n",
      "Num timesteps: 600000\n",
      "Best mean reward: 0.20 - Last mean reward per episode: 0.19\n",
      "Num timesteps: 610000\n",
      "Best mean reward: 0.20 - Last mean reward per episode: 0.20\n",
      "Saving new best model to /tmp/gym7_2/best_model.zip\n",
      "Num timesteps: 620000\n",
      "Best mean reward: 0.20 - Last mean reward per episode: 0.20\n",
      "Num timesteps: 630000\n",
      "Best mean reward: 0.20 - Last mean reward per episode: 0.21\n",
      "Saving new best model to /tmp/gym7_2/best_model.zip\n",
      "Num timesteps: 640000\n",
      "Best mean reward: 0.21 - Last mean reward per episode: 0.22\n",
      "Saving new best model to /tmp/gym7_2/best_model.zip\n",
      "Num timesteps: 650000\n",
      "Best mean reward: 0.22 - Last mean reward per episode: 0.22\n",
      "Num timesteps: 660000\n",
      "Best mean reward: 0.22 - Last mean reward per episode: 0.22\n",
      "Num timesteps: 670000\n",
      "Best mean reward: 0.22 - Last mean reward per episode: 0.22\n",
      "Num timesteps: 680000\n",
      "Best mean reward: 0.22 - Last mean reward per episode: 0.22\n",
      "Num timesteps: 690000\n",
      "Best mean reward: 0.22 - Last mean reward per episode: 0.23\n",
      "Saving new best model to /tmp/gym7_2/best_model.zip\n",
      "Num timesteps: 700000\n",
      "Best mean reward: 0.23 - Last mean reward per episode: 0.22\n",
      "Num timesteps: 710000\n",
      "Best mean reward: 0.23 - Last mean reward per episode: 0.22\n",
      "Num timesteps: 720000\n",
      "Best mean reward: 0.23 - Last mean reward per episode: 0.22\n",
      "Num timesteps: 730000\n",
      "Best mean reward: 0.23 - Last mean reward per episode: 0.22\n",
      "Num timesteps: 740000\n",
      "Best mean reward: 0.23 - Last mean reward per episode: 0.23\n",
      "Num timesteps: 750000\n",
      "Best mean reward: 0.23 - Last mean reward per episode: 0.22\n",
      "Num timesteps: 760000\n",
      "Best mean reward: 0.23 - Last mean reward per episode: 0.22\n",
      "Num timesteps: 770000\n",
      "Best mean reward: 0.23 - Last mean reward per episode: 0.22\n",
      "Num timesteps: 780000\n",
      "Best mean reward: 0.23 - Last mean reward per episode: 0.22\n",
      "Num timesteps: 790000\n",
      "Best mean reward: 0.23 - Last mean reward per episode: 0.22\n",
      "Num timesteps: 800000\n",
      "Best mean reward: 0.23 - Last mean reward per episode: 0.22\n",
      "Num timesteps: 810000\n",
      "Best mean reward: 0.23 - Last mean reward per episode: 0.22\n"
     ]
    },
    {
     "name": "stdout",
     "output_type": "stream",
     "text": [
      "Num timesteps: 820000\n",
      "Best mean reward: 0.23 - Last mean reward per episode: 0.22\n",
      "Num timesteps: 830000\n",
      "Best mean reward: 0.23 - Last mean reward per episode: 0.21\n",
      "Num timesteps: 840000\n",
      "Best mean reward: 0.23 - Last mean reward per episode: 0.22\n",
      "Num timesteps: 850000\n",
      "Best mean reward: 0.23 - Last mean reward per episode: 0.22\n",
      "Num timesteps: 860000\n",
      "Best mean reward: 0.23 - Last mean reward per episode: 0.21\n",
      "Num timesteps: 870000\n",
      "Best mean reward: 0.23 - Last mean reward per episode: 0.22\n",
      "Num timesteps: 880000\n",
      "Best mean reward: 0.23 - Last mean reward per episode: 0.23\n",
      "Num timesteps: 890000\n",
      "Best mean reward: 0.23 - Last mean reward per episode: 0.22\n",
      "Num timesteps: 900000\n",
      "Best mean reward: 0.23 - Last mean reward per episode: 0.22\n",
      "Num timesteps: 910000\n",
      "Best mean reward: 0.23 - Last mean reward per episode: 0.22\n",
      "Num timesteps: 920000\n",
      "Best mean reward: 0.23 - Last mean reward per episode: 0.23\n",
      "Saving new best model to /tmp/gym7_2/best_model.zip\n",
      "Num timesteps: 930000\n",
      "Best mean reward: 0.23 - Last mean reward per episode: 0.26\n",
      "Saving new best model to /tmp/gym7_2/best_model.zip\n",
      "Num timesteps: 940000\n",
      "Best mean reward: 0.26 - Last mean reward per episode: 0.26\n",
      "Num timesteps: 950000\n",
      "Best mean reward: 0.26 - Last mean reward per episode: 0.22\n",
      "Num timesteps: 960000\n",
      "Best mean reward: 0.26 - Last mean reward per episode: 0.24\n",
      "Num timesteps: 970000\n",
      "Best mean reward: 0.26 - Last mean reward per episode: 0.22\n",
      "Num timesteps: 980000\n",
      "Best mean reward: 0.26 - Last mean reward per episode: 0.24\n",
      "Num timesteps: 990000\n",
      "Best mean reward: 0.26 - Last mean reward per episode: 0.23\n",
      "Num timesteps: 1000000\n",
      "Best mean reward: 0.26 - Last mean reward per episode: 0.24\n"
     ]
    }
   ],
   "source": [
    "start = time.time()\n",
    "model = PPO(\"CnnPolicy\", env, policy_kwargs=policy_kwargs).learn(total_timesteps=ts, callback=callback)\n",
    "# model = PPO.load(log_dir + \"best_model.zip\", env=env).learn(total_timesteps=ts, callback=callback)\n",
    "end = time.time()   "
   ]
  },
  {
   "cell_type": "code",
   "execution_count": 21,
   "metadata": {},
   "outputs": [
    {
     "name": "stdout",
     "output_type": "stream",
     "text": [
      "Total time taken: 84.35185833374659 min\n"
     ]
    }
   ],
   "source": [
    "print('Total time taken: {} min'.format((end - start)/60))"
   ]
  },
  {
   "cell_type": "markdown",
   "metadata": {},
   "source": [
    "### Inference"
   ]
  },
  {
   "cell_type": "code",
   "execution_count": 22,
   "metadata": {},
   "outputs": [
    {
     "name": "stderr",
     "output_type": "stream",
     "text": [
      "/Library/Frameworks/Python.framework/Versions/3.9/lib/python3.9/site-packages/gymnasium/core.py:311: UserWarning: \u001b[33mWARN: env.M to get variables from other wrappers is deprecated and will be removed in v1.0, to get this variable you can do `env.unwrapped.M` for environment variables or `env.get_wrapper_attr('M')` that will search the reminding wrappers.\u001b[0m\n",
      "  logger.warn(\n"
     ]
    }
   ],
   "source": [
    "# env.M.flag_=True\n",
    "env.M.flag_=False\n",
    "obs=env.reset()\n",
    "obs=obs[0]"
   ]
  },
  {
   "cell_type": "code",
   "execution_count": 23,
   "metadata": {},
   "outputs": [],
   "source": [
    "i=0\n",
    "while i<2000:\n",
    "    action, _states = model.predict(obs)\n",
    "    obs, rewards, dones, _ , info = env.step(int(action))\n",
    "    if dones: \n",
    "        break\n",
    "    i+=1"
   ]
  },
  {
   "cell_type": "code",
   "execution_count": 24,
   "metadata": {},
   "outputs": [
    {
     "name": "stdout",
     "output_type": "stream",
     "text": [
      "36\n"
     ]
    }
   ],
   "source": [
    "print(i)"
   ]
  },
  {
   "cell_type": "code",
   "execution_count": 25,
   "metadata": {},
   "outputs": [
    {
     "name": "stdout",
     "output_type": "stream",
     "text": [
      "\n",
      "Final Cantilever beam design:\n"
     ]
    },
    {
     "data": {
      "image/png": "[encoded data removed]",
      "text/plain": [
       "<Figure size 320x240 with 1 Axes>"
      ]
     },
     "metadata": {},
     "output_type": "display_data"
    }
   ],
   "source": [
    "env.render()"
   ]
  },
  {
   "cell_type": "code",
   "execution_count": 26,
   "metadata": {},
   "outputs": [
    {
     "data": {
      "image/png": "[encoded data removed]",
      "text/plain": [
       "<Figure size 800x200 with 1 Axes>"
      ]
     },
     "metadata": {},
     "output_type": "display_data"
    }
   ],
   "source": [
    "results_plotter.plot_results([log_dir], ts, results_plotter.X_TIMESTEPS, \"CantileverEnv\")"
   ]
  },
  {
   "cell_type": "code",
   "execution_count": 27,
   "metadata": {},
   "outputs": [],
   "source": [
    "obs=env.reset()\n",
    "obs=obs[0]"
   ]
  },
  {
   "cell_type": "code",
   "execution_count": 28,
   "metadata": {},
   "outputs": [
    {
     "name": "stderr",
     "output_type": "stream",
     "text": [
      "/Library/Frameworks/Python.framework/Versions/3.9/lib/python3.9/site-packages/gymnasium/core.py:311: UserWarning: \u001b[33mWARN: env.render_mode to get variables from other wrappers is deprecated and will be removed in v1.0, to get this variable you can do `env.unwrapped.render_mode` for environment variables or `env.get_wrapper_attr('render_mode')` that will search the reminding wrappers.\u001b[0m\n",
      "  logger.warn(\n",
      "/Library/Frameworks/Python.framework/Versions/3.9/lib/python3.9/site-packages/stable_baselines3/common/vec_env/base_vec_env.py:77: UserWarning: The `render_mode` attribute is not defined in your environment. It will be set to None.\n",
      "  warnings.warn(\"The `render_mode` attribute is not defined in your environment. It will be set to None.\")\n"
     ]
    }
   ],
   "source": [
    "# Load the agent\n",
    "model_best = PPO.load(log_dir + \"best_model.zip\", env=env)"
   ]
  },
  {
   "cell_type": "code",
   "execution_count": 29,
   "metadata": {},
   "outputs": [],
   "source": [
    "i=0\n",
    "while i<2000:\n",
    "    action, _states = model_best.predict(obs)\n",
    "    \n",
    "    obs, rewards, dones, _ , info = env.step(int(action))\n",
    "    if dones:\n",
    "        break\n",
    "    i+=1"
   ]
  },
  {
   "cell_type": "code",
   "execution_count": 30,
   "metadata": {},
   "outputs": [
    {
     "data": {
      "text/plain": [
       "36"
      ]
     },
     "execution_count": 30,
     "metadata": {},
     "output_type": "execute_result"
    }
   ],
   "source": [
    "i"
   ]
  },
  {
   "cell_type": "code",
   "execution_count": 31,
   "metadata": {},
   "outputs": [
    {
     "name": "stdout",
     "output_type": "stream",
     "text": [
      "\n",
      "Final Cantilever beam design:\n"
     ]
    },
    {
     "data": {
      "image/png": "[encoded data removed]",
      "text/plain": [
       "<Figure size 320x240 with 1 Axes>"
      ]
     },
     "metadata": {},
     "output_type": "display_data"
    }
   ],
   "source": [
    "env.render()"
   ]
  },
  {
   "cell_type": "code",
   "execution_count": 32,
   "metadata": {},
   "outputs": [],
   "source": [
    "# https://stable-baselines3.readthedocs.io/en/master/guide/save_format.html"
   ]
  },
  {
   "cell_type": "code",
   "execution_count": null,
   "metadata": {},
   "outputs": [],
   "source": []
  }
 ],
 "metadata": {
  "kernelspec": {
   "display_name": "Python 3 (ipykernel)",
   "language": "python",
   "name": "python3"
  },
  "language_info": {
   "codemirror_mode": {
    "name": "ipython",
    "version": 3
   },
   "file_extension": ".py",
   "mimetype": "text/x-python",
   "name": "python",
   "nbconvert_exporter": "python",
   "pygments_lexer": "ipython3",
   "version": "3.9.6"
  }
 },
 "nbformat": 4,
 "nbformat_minor": 4
}
