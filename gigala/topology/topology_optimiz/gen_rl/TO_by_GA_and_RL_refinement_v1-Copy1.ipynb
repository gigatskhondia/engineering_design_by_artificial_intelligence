{
 "cells": [
  {
   "cell_type": "code",
   "execution_count": 1,
   "id": "d4dd50db",
   "metadata": {},
   "outputs": [
    {
     "name": "stderr",
     "output_type": "stream",
     "text": [
      "\n"
     ]
    }
   ],
   "source": [
    "import time\n",
    "import os\n",
    "import random\n",
    "import numpy as np     \n",
    "import math\n",
    "\n",
    "import matplotlib.pyplot as plt                                   \n",
    "import autograd, autograd.core, autograd.extend, autograd.tracer  \n",
    "import autograd.numpy as anp      \n",
    "import scipy, scipy.ndimage, scipy.sparse, scipy.sparse.linalg \n",
    "\n",
    "from deap import base\n",
    "from deap import creator\n",
    "from deap import tools\n",
    "\n",
    "import random\n",
    "import matplotlib.pyplot as plt\n",
    "import seaborn as sns\n",
    "\n",
    "import sys\n",
    "import numpy as np\n",
    "from mpl_toolkits.mplot3d import Axes3D\n",
    "\n",
    "\n",
    "import gym\n",
    "from gymnasium import spaces\n",
    "\n",
    "from stable_baselines3 import PPO, A2C\n",
    "from stable_baselines3.common.env_checker import check_env\n",
    "from stable_baselines3.common.monitor import Monitor\n",
    "from stable_baselines3.common.results_plotter import load_results, ts2xy\n",
    "from stable_baselines3.common.callbacks import BaseCallback\n",
    "from stable_baselines3.common import results_plotter\n",
    "\n",
    "from scipy.ndimage import rotate"
   ]
  },
  {
   "cell_type": "code",
   "execution_count": 2,
   "id": "8ea397b9",
   "metadata": {},
   "outputs": [],
   "source": [
    "sys.path.append('../../../../../ocean_intella/ocean_intella/pipelay_vessel_design_optimisation_using_genetic_algorithms/')"
   ]
  },
  {
   "cell_type": "code",
   "execution_count": 3,
   "id": "b6b7b5bb",
   "metadata": {},
   "outputs": [],
   "source": [
    "import elitism"
   ]
  },
  {
   "cell_type": "code",
   "execution_count": 4,
   "id": "a571af43",
   "metadata": {},
   "outputs": [],
   "source": [
    "from scipy.spatial import ConvexHull"
   ]
  },
  {
   "cell_type": "code",
   "execution_count": 5,
   "id": "a69431b9",
   "metadata": {},
   "outputs": [],
   "source": [
    "import networkx as nx"
   ]
  },
  {
   "cell_type": "code",
   "execution_count": 6,
   "id": "9a36c8ed",
   "metadata": {},
   "outputs": [],
   "source": [
    "x0,y0 = 10, 10"
   ]
  },
  {
   "cell_type": "code",
   "execution_count": null,
   "id": "039499aa",
   "metadata": {},
   "outputs": [],
   "source": []
  },
  {
   "cell_type": "markdown",
   "id": "1e51a2d8",
   "metadata": {},
   "source": [
    "# FEM Model"
   ]
  },
  {
   "cell_type": "code",
   "execution_count": 7,
   "id": "61da96e8",
   "metadata": {},
   "outputs": [],
   "source": [
    "class ObjectView(object):\n",
    "    def __init__(self, d): self.__dict__ = d\n",
    "    \n",
    "def get_args(normals, forces, density=1e-4):  # Manage the problem setup parameters\n",
    "    width = normals.shape[0] - 1\n",
    "    height = normals.shape[1] - 1\n",
    "    fixdofs = np.flatnonzero(normals.ravel())\n",
    "    alldofs = np.arange(2 * (width + 1) * (height + 1))\n",
    "    freedofs = np.sort(list(set(alldofs) - set(fixdofs)))\n",
    "    params = {\n",
    "      # material properties\n",
    "      'young': 1, 'young_min': 1e-9, 'poisson': 0.3, 'g': 0,\n",
    "      # constraints\n",
    "      'density': density, 'xmin': 0.001, 'xmax': 1.0,\n",
    "      # input parameters\n",
    "      'nelx': width, 'nely': height, 'mask': 1, 'penal': 3.0, 'filter_width': 1,\n",
    "      'freedofs': freedofs, 'fixdofs': fixdofs, 'forces': forces.ravel(),\n",
    "      # optimization parameters\n",
    "      'opt_steps': 80, 'print_every': 10}\n",
    "    return ObjectView(params)\n",
    "\n",
    "def mbb_beam(width=y0, height=x0, density=1e-4, y=1, x=0, rd=-1):  # textbook beam example\n",
    "    normals = np.zeros((width + 1, height + 1, 2))\n",
    "    normals[0, 0, x] = 1\n",
    "    normals[0, 0, y] = 1\n",
    "    normals[0, -1, x] = 1\n",
    "    normals[0, -1, y] = 1\n",
    "    forces = np.zeros((width + 1, height + 1, 2))\n",
    "    forces[-1, rd, y] = -1\n",
    "    return normals, forces, density"
   ]
  },
  {
   "cell_type": "code",
   "execution_count": 8,
   "id": "a8a6894f",
   "metadata": {},
   "outputs": [],
   "source": [
    "def young_modulus(x, e_0, e_min, p=3):\n",
    "    return e_min + x ** p * (e_0 - e_min)\n",
    "\n",
    "def physical_density(x, args, volume_contraint=False, use_filter=True):\n",
    "    x = args.mask * x.reshape(args.nely, args.nelx)  # reshape from 1D to 2D\n",
    "    return gaussian_filter(x, args.filter_width) if use_filter else x  # maybe filter\n",
    "\n",
    "def mean_density(x, args, volume_contraint=False, use_filter=True):\n",
    "    return anp.mean(physical_density(x, args, volume_contraint, use_filter)) / anp.mean(args.mask)"
   ]
  },
  {
   "cell_type": "code",
   "execution_count": 9,
   "id": "e57ceba0",
   "metadata": {},
   "outputs": [],
   "source": [
    "def objective(x, args, volume_contraint=False, use_filter=True):\n",
    "    kwargs = dict(penal=args.penal, e_min=args.young_min, e_0=args.young)\n",
    "    x_phys = physical_density(x, args, volume_contraint=volume_contraint, use_filter=use_filter)\n",
    "    ke     = get_stiffness_matrix(args.young, args.poisson)  # stiffness matrix\n",
    "    u      = displace(x_phys, ke, args.forces, args.freedofs, args.fixdofs, **kwargs)\n",
    "    c      = compliance(x_phys, u, ke, **kwargs)\n",
    "    return c"
   ]
  },
  {
   "cell_type": "code",
   "execution_count": 10,
   "id": "002cb134",
   "metadata": {},
   "outputs": [],
   "source": [
    "@autograd.extend.primitive\n",
    "def gaussian_filter(x, width): # 2D gaussian blur/filter\n",
    "    return scipy.ndimage.gaussian_filter(x, width, mode='reflect')\n",
    "\n",
    "def _gaussian_filter_vjp(ans, x, width): # gives the gradient of orig. function w.r.t. x\n",
    "    del ans, x  # unused\n",
    "    return lambda g: gaussian_filter(g, width)\n",
    "autograd.extend.defvjp(gaussian_filter, _gaussian_filter_vjp)"
   ]
  },
  {
   "cell_type": "code",
   "execution_count": 11,
   "id": "38d39095",
   "metadata": {},
   "outputs": [],
   "source": [
    "def compliance(x_phys, u, ke, *, penal=3, e_min=1e-9, e_0=1):\n",
    "    nely, nelx = x_phys.shape\n",
    "    ely, elx = anp.meshgrid(range(nely), range(nelx))  # x, y coords for the index map\n",
    "\n",
    "    n1 = (nely+1)*(elx+0) + (ely+0)  # nodes\n",
    "    n2 = (nely+1)*(elx+1) + (ely+0)\n",
    "    n3 = (nely+1)*(elx+1) + (ely+1)\n",
    "    n4 = (nely+1)*(elx+0) + (ely+1)\n",
    "    all_ixs = anp.array([2*n1, 2*n1+1, 2*n2, 2*n2+1, 2*n3, 2*n3+1, 2*n4, 2*n4+1])\n",
    "    u_selected = u[all_ixs]  # select from u matrix\n",
    "\n",
    "    ke_u = anp.einsum('ij,jkl->ikl', ke, u_selected)  # compute x^penal * U.T @ ke @ U\n",
    "    ce = anp.einsum('ijk,ijk->jk', u_selected, ke_u)\n",
    "    C = young_modulus(x_phys, e_0, e_min, p=penal) * ce.T\n",
    "    return anp.sum(C)\n",
    "\n",
    "def get_stiffness_matrix(e, nu):  # e=young's modulus, nu=poisson coefficient\n",
    "    k = anp.array([1/2-nu/6, 1/8+nu/8, -1/4-nu/12, -1/8+3*nu/8,\n",
    "                -1/4+nu/12, -1/8-nu/8, nu/6, 1/8-3*nu/8])\n",
    "    return e/(1-nu**2)*anp.array([[k[0], k[1], k[2], k[3], k[4], k[5], k[6], k[7]],\n",
    "                               [k[1], k[0], k[7], k[6], k[5], k[4], k[3], k[2]],\n",
    "                               [k[2], k[7], k[0], k[5], k[6], k[3], k[4], k[1]],\n",
    "                               [k[3], k[6], k[5], k[0], k[7], k[2], k[1], k[4]],\n",
    "                               [k[4], k[5], k[6], k[7], k[0], k[1], k[2], k[3]],\n",
    "                               [k[5], k[4], k[3], k[2], k[1], k[0], k[7], k[6]],\n",
    "                               [k[6], k[3], k[4], k[1], k[2], k[7], k[0], k[5]],\n",
    "                               [k[7], k[2], k[1], k[4], k[3], k[6], k[5], k[0]]])"
   ]
  },
  {
   "cell_type": "code",
   "execution_count": 12,
   "id": "34842c26",
   "metadata": {},
   "outputs": [],
   "source": [
    "def get_k(stiffness, ke):\n",
    "    # Constructs sparse stiffness matrix k (used in the displace fn)\n",
    "    # First, get position of the nodes of each element in the stiffness matrix\n",
    "    nely, nelx = stiffness.shape\n",
    "    ely, elx = anp.meshgrid(range(nely), range(nelx))  # x, y coords\n",
    "    ely, elx = ely.reshape(-1, 1), elx.reshape(-1, 1)\n",
    "\n",
    "    n1 = (nely+1)*(elx+0) + (ely+0)\n",
    "    n2 = (nely+1)*(elx+1) + (ely+0)\n",
    "    n3 = (nely+1)*(elx+1) + (ely+1)\n",
    "    n4 = (nely+1)*(elx+0) + (ely+1)\n",
    "    edof = anp.array([2*n1, 2*n1+1, 2*n2, 2*n2+1, 2*n3, 2*n3+1, 2*n4, 2*n4+1])\n",
    "    edof = edof.T[0]\n",
    "    x_list = anp.repeat(edof, 8)  # flat list pointer of each node in an element\n",
    "    y_list = anp.tile(edof, 8).flatten()  # flat list pointer of each node in elem\n",
    "\n",
    "    # make the global stiffness matrix K\n",
    "    kd = stiffness.T.reshape(nelx*nely, 1, 1)\n",
    "    value_list = (kd * anp.tile(ke, kd.shape)).flatten()\n",
    "    return value_list, y_list, x_list\n",
    "\n",
    "def displace(x_phys, ke, forces, freedofs, fixdofs, *, penal=3, e_min=1e-9, e_0=1):\n",
    "    # Displaces the load x using finite element techniques (solve_coo=most of runtime)\n",
    "    stiffness = young_modulus(x_phys, e_0, e_min, p=penal)\n",
    "    k_entries, k_ylist, k_xlist = get_k(stiffness, ke)\n",
    "\n",
    "    index_map, keep, indices = _get_dof_indices(freedofs, fixdofs, k_ylist, k_xlist)\n",
    "\n",
    "    u_nonzero = solve_coo(k_entries[keep], indices, forces[freedofs], sym_pos=True)\n",
    "    u_values = anp.concatenate([u_nonzero, anp.zeros(len(fixdofs))])\n",
    "    return u_values[index_map]"
   ]
  },
  {
   "cell_type": "code",
   "execution_count": 13,
   "id": "68a50764",
   "metadata": {},
   "outputs": [],
   "source": [
    "def _get_dof_indices(freedofs, fixdofs, k_xlist, k_ylist):\n",
    "    index_map = inverse_permutation(anp.concatenate([freedofs, fixdofs]))\n",
    "    keep = anp.isin(k_xlist, freedofs) & anp.isin(k_ylist, freedofs)\n",
    "    # Now we index an indexing array that is being indexed by the indices of k\n",
    "    i = index_map[k_ylist][keep]\n",
    "    j = index_map[k_xlist][keep]\n",
    "    return index_map, keep, anp.stack([i, j])\n",
    "\n",
    "def inverse_permutation(indices):  # reverses an index operation\n",
    "    inverse_perm = np.zeros(len(indices), dtype=anp.int64)\n",
    "    inverse_perm[indices] = np.arange(len(indices), dtype=anp.int64)\n",
    "    return inverse_perm"
   ]
  },
  {
   "cell_type": "code",
   "execution_count": 14,
   "id": "df4e42f1",
   "metadata": {},
   "outputs": [],
   "source": [
    "def _get_solver(a_entries, a_indices, size, sym_pos):\n",
    "    # a is (usu.) symmetric positive; could solve 2x faster w/sksparse.cholmod.cholesky(a).solve_A\n",
    "    a = scipy.sparse.coo_matrix((a_entries, a_indices), shape=(size,)*2).tocsc()\n",
    "    return scipy.sparse.linalg.splu(a).solve\n",
    "\n",
    "@autograd.primitive\n",
    "def solve_coo(a_entries, a_indices, b, sym_pos=False):\n",
    "    solver = _get_solver(a_entries, a_indices, b.size, sym_pos)\n",
    "    return solver(b)\n",
    "\n",
    "def grad_solve_coo_entries(ans, a_entries, a_indices, b, sym_pos=False):\n",
    "    def jvp(grad_ans):\n",
    "        lambda_ = solve_coo(a_entries, a_indices if sym_pos else a_indices[::-1],\n",
    "                            grad_ans, sym_pos)\n",
    "        i, j = a_indices\n",
    "        return -lambda_[i] * ans[j]\n",
    "    return jvp\n",
    "\n",
    "autograd.extend.defvjp(solve_coo, grad_solve_coo_entries,\n",
    "                       lambda: print('err: gradient undefined'),\n",
    "                       lambda: print('err: gradient not implemented'))"
   ]
  },
  {
   "cell_type": "code",
   "execution_count": 15,
   "id": "d5f5c02e",
   "metadata": {},
   "outputs": [],
   "source": [
    "def fast_stopt(args, x):\n",
    "\n",
    "    reshape = lambda x: x.reshape(args.nely, args.nelx)\n",
    "    objective_fn = lambda x: objective(reshape(x), args)\n",
    "#     constraint = lambda params: mean_density(reshape(params), args) - args.density\n",
    "    constraint = lambda params: mean_density(reshape(params), args) \n",
    "    value = objective_fn(x)\n",
    "    const = constraint(x)\n",
    "    return value, const"
   ]
  },
  {
   "cell_type": "code",
   "execution_count": 16,
   "id": "a0fbbfbf",
   "metadata": {},
   "outputs": [],
   "source": [
    "def draw(X):  \n",
    "    plt.figure(dpi=50) \n",
    "    print('\\nFinal Cantilever beam design:')\n",
    "    plt.imshow(X) \n",
    "    plt.show()"
   ]
  },
  {
   "cell_type": "code",
   "execution_count": null,
   "id": "5b8ca32f",
   "metadata": {},
   "outputs": [],
   "source": []
  },
  {
   "cell_type": "code",
   "execution_count": null,
   "id": "0fb472c6",
   "metadata": {},
   "outputs": [],
   "source": []
  },
  {
   "cell_type": "markdown",
   "id": "c2e4160b",
   "metadata": {},
   "source": [
    "# Genetic Modelling"
   ]
  },
  {
   "cell_type": "code",
   "execution_count": 17,
   "id": "3df4d4ab",
   "metadata": {},
   "outputs": [],
   "source": [
    "# Genetic Algorithm constants:\n",
    "POPULATION_SIZE = 300\n",
    "P_CROSSOVER = 0.9  # probability for crossover\n",
    "P_MUTATION = 0.1   # probability for mutating an individual\n",
    "MAX_GENERATIONS = 150\n",
    "HALL_OF_FAME_SIZE = 30"
   ]
  },
  {
   "cell_type": "code",
   "execution_count": 18,
   "id": "609fd36c",
   "metadata": {},
   "outputs": [],
   "source": [
    "PENALTY_VALUE = 1000.0    "
   ]
  },
  {
   "cell_type": "code",
   "execution_count": 19,
   "id": "2e6d4232",
   "metadata": {},
   "outputs": [],
   "source": [
    "# set the random seed:\n",
    "RANDOM_SEED = 42\n",
    "random.seed(RANDOM_SEED)"
   ]
  },
  {
   "cell_type": "code",
   "execution_count": 20,
   "id": "97290a0c",
   "metadata": {},
   "outputs": [],
   "source": [
    "toolbox = base.Toolbox()"
   ]
  },
  {
   "cell_type": "code",
   "execution_count": 21,
   "id": "1391986f",
   "metadata": {},
   "outputs": [],
   "source": [
    "# define a single objective, minimizing fitness strategy:\n",
    "creator.create(\"FitnessMin\", base.Fitness, weights=(-1.0,))"
   ]
  },
  {
   "cell_type": "code",
   "execution_count": 22,
   "id": "1aa2c311",
   "metadata": {},
   "outputs": [],
   "source": [
    "# create the Individual class based on list:\n",
    "creator.create(\"Individual\", list, fitness=creator.FitnessMin)"
   ]
  },
  {
   "cell_type": "code",
   "execution_count": 23,
   "id": "8db1dd20",
   "metadata": {},
   "outputs": [],
   "source": [
    "# create an operator that randomly returns 0 or 1:\n",
    "toolbox.register(\"zeroOrOne\", random.randint, 0, 1)"
   ]
  },
  {
   "cell_type": "code",
   "execution_count": 24,
   "id": "617e2bdd",
   "metadata": {},
   "outputs": [],
   "source": [
    "# create the individual operator to fill up an Individual instance:\n",
    "toolbox.register(\"individualCreator\", \n",
    "                 tools.initRepeat,\n",
    "                 creator.Individual,\n",
    "                 toolbox.zeroOrOne, \n",
    "                 x0*y0+4)"
   ]
  },
  {
   "cell_type": "code",
   "execution_count": 25,
   "id": "e4eebebc",
   "metadata": {},
   "outputs": [],
   "source": [
    "# create the population operator to generate a list of individuals:\n",
    "toolbox.register(\"populationCreator\", \n",
    "                 tools.initRepeat, \n",
    "                 list, \n",
    "                 toolbox.individualCreator)"
   ]
  },
  {
   "cell_type": "code",
   "execution_count": 26,
   "id": "fed9c09c",
   "metadata": {},
   "outputs": [],
   "source": [
    "# convert a binary list to decimal\n",
    "def binatodeci(binary):\n",
    "    return sum(val*(2**idx) for idx, val in enumerate(reversed(binary)))"
   ]
  },
  {
   "cell_type": "code",
   "execution_count": 27,
   "id": "19316a1b",
   "metadata": {},
   "outputs": [],
   "source": [
    "# fitness calculation\n",
    "def staticFEM(individual):\n",
    "    \n",
    "    args = get_args(*mbb_beam(rd=-1))\n",
    "    \n",
    "    x = np.array([t if t==1 else 1e-4 for t in individual[:-4]]) \n",
    "    \n",
    "    try:\n",
    "        tmp, const = fast_stopt(args, x)\n",
    "        if const>(55+binatodeci(individual[-4:]))/100:\n",
    "            return PENALTY_VALUE, \n",
    "    except:\n",
    "        return PENALTY_VALUE, \n",
    "    \n",
    "    \n",
    "    return tmp,  # return a tuple"
   ]
  },
  {
   "cell_type": "code",
   "execution_count": 28,
   "id": "8f514830",
   "metadata": {},
   "outputs": [],
   "source": [
    "toolbox.register(\"evaluate\", staticFEM)\n",
    "\n",
    "# genetic operators:\n",
    "toolbox.register(\"select\", tools.selTournament, tournsize=2)\n",
    "toolbox.register(\"mate\", tools.cxTwoPoint)\n",
    "toolbox.register(\"mutate\", tools.mutFlipBit, indpb=1.0/(x0*y0+4))"
   ]
  },
  {
   "cell_type": "code",
   "execution_count": 29,
   "id": "90da69fe",
   "metadata": {},
   "outputs": [],
   "source": [
    "# Genetic Algorithm flow:\n",
    "def main():\n",
    "\n",
    "    # create initial population (generation 0):\n",
    "    population = toolbox.populationCreator(n=POPULATION_SIZE)\n",
    "\n",
    "    # prepare the statistics object:\n",
    "    stats = tools.Statistics(lambda ind: ind.fitness.values)\n",
    "    stats.register(\"min\", np.min)\n",
    "    stats.register(\"avg\", np.mean)\n",
    "\n",
    "    # define the hall-of-fame object:\n",
    "    hof = tools.HallOfFame(HALL_OF_FAME_SIZE)\n",
    "\n",
    "    # perform the Genetic Algorithm flow with hof feature added:\n",
    "    population, logbook = elitism.eaSimpleWithElitism(population, toolbox, cxpb=P_CROSSOVER, mutpb=P_MUTATION,\n",
    "                                              ngen=MAX_GENERATIONS, stats=stats, halloffame=hof, verbose=True)\n",
    "\n",
    "    # print best solution found:\n",
    "    best = hof.items[0]\n",
    "    print(\"-- Best Individual = \", best)\n",
    "    print(\"-- Best Fitness = \", best.fitness.values[0])\n",
    "    print()\n",
    "    \n",
    "    x = np.array(best[:-4]).astype(np.float64).reshape(x0,y0)\n",
    "    \n",
    "    args = get_args(*mbb_beam(rd=-1))\n",
    "    print(fast_stopt(args, x))\n",
    "    \n",
    "    draw(x)\n",
    "    \n",
    "\n",
    "    # extract statistics:\n",
    "    minFitnessValues, meanFitnessValues = logbook.select(\"min\", \"avg\")\n",
    "\n",
    "    # plot statistics:\n",
    "    sns.set_style(\"whitegrid\")\n",
    "    plt.plot(minFitnessValues, color='red')\n",
    "    plt.plot(meanFitnessValues, color='green')\n",
    "  \n",
    "    plt.xlabel('Generation')\n",
    "    plt.ylabel('Min / Average Fitness')\n",
    "    plt.title('Min and Average fitness over Generations')\n",
    "    plt.show()    \n",
    "    return x"
   ]
  },
  {
   "cell_type": "code",
   "execution_count": 30,
   "id": "30b2d22b",
   "metadata": {},
   "outputs": [
    {
     "name": "stdout",
     "output_type": "stream",
     "text": [
      "gen\tnevals\tmin   \tavg        \n",
      "0  \t300   \t40.597\t1.06682e+06\n",
      "1  \t247   \t40.597\t700.548    \n",
      "2  \t252   \t40.597\t615.067    \n",
      "3  \t253   \t40.597\t142.701    \n",
      "4  \t255   \t39.3084\t164.824    \n",
      "5  \t248   \t35.7276\t147.409    \n",
      "6  \t246   \t35.7276\t109.762    \n",
      "7  \t235   \t35.7276\t118.618    \n",
      "8  \t248   \t34.113 \t134.151    \n",
      "9  \t241   \t31.655 \t118.004    \n",
      "10 \t241   \t31.2711\t153.032    \n",
      "11 \t242   \t29.4082\t144.237    \n",
      "12 \t249   \t27.0919\t120.089    \n",
      "13 \t246   \t25.8896\t102.272    \n",
      "14 \t226   \t25.8896\t106.919    \n",
      "15 \t251   \t25.8896\t105.909    \n",
      "16 \t250   \t25.3352\t143.813    \n",
      "17 \t254   \t24.4339\t133.48     \n",
      "18 \t244   \t23.4157\t132.494    \n",
      "19 \t248   \t23.4157\t170.547    \n",
      "20 \t241   \t23.4157\t160.353    \n",
      "21 \t230   \t22.9005\t127.399    \n",
      "22 \t239   \t22.8485\t172.15     \n",
      "23 \t258   \t22.7728\t174.982    \n",
      "24 \t236   \t22.6288\t141.892    \n",
      "25 \t250   \t22.3473\t183.787    \n",
      "26 \t248   \t22.3369\t183.493    \n",
      "27 \t254   \t21.6602\t202.927    \n",
      "28 \t248   \t21.5688\t205.944    \n",
      "29 \t229   \t21.5688\t143.855    \n",
      "30 \t238   \t21.3615\t182.639    \n",
      "31 \t244   \t21.3615\t189.106    \n",
      "32 \t242   \t21.127 \t179.083    \n",
      "33 \t246   \t20.9051\t172.367    \n",
      "34 \t247   \t20.8994\t152.58     \n",
      "35 \t248   \t20.4967\t165.492    \n",
      "36 \t235   \t20.4967\t168.647    \n",
      "37 \t249   \t20.4967\t168.393    \n",
      "38 \t230   \t20.2681\t151.895    \n",
      "39 \t241   \t20.2681\t158.437    \n",
      "40 \t238   \t20.2681\t158.254    \n",
      "41 \t234   \t20.2168\t145.106    \n",
      "42 \t242   \t20.2008\t128.71     \n",
      "43 \t238   \t19.9352\t144.985    \n",
      "44 \t250   \t19.9352\t151.315    \n",
      "45 \t242   \t19.9352\t138.242    \n",
      "46 \t246   \t19.9177\t115.297    \n",
      "47 \t252   \t19.9177\t131.555    \n",
      "48 \t242   \t19.7541\t154.333    \n",
      "49 \t238   \t19.7541\t128.035    \n",
      "50 \t252   \t19.7541\t124.791    \n",
      "51 \t257   \t19.7541\t108.338    \n",
      "52 \t252   \t19.7541\t124.634    \n",
      "53 \t248   \t19.6152\t95.2109    \n",
      "54 \t236   \t19.6152\t95.1356    \n",
      "55 \t251   \t19.6152\t101.668    \n",
      "56 \t248   \t19.6152\t98.3367    \n",
      "57 \t249   \t19.603 \t91.7992    \n",
      "58 \t242   \t19.603 \t101.622    \n",
      "59 \t238   \t19.603 \t121.31     \n",
      "60 \t245   \t19.603 \t111.462    \n",
      "61 \t251   \t19.603 \t114.673    \n",
      "62 \t238   \t19.5977\t170.202    \n",
      "63 \t250   \t19.5977\t137.57     \n",
      "64 \t242   \t19.4391\t124.443    \n",
      "65 \t236   \t19.3954\t150.525    \n",
      "66 \t254   \t19.3954\t130.86     \n",
      "67 \t235   \t19.3954\t98.1493    \n",
      "68 \t241   \t19.3954\t124.272    \n",
      "69 \t247   \t19.3954\t88.3328    \n",
      "70 \t224   \t19.3954\t147.198    \n",
      "71 \t217   \t19.3954\t111.234    \n",
      "72 \t239   \t19.3954\t127.553    \n",
      "73 \t238   \t19.3649\t130.784    \n",
      "74 \t240   \t19.3649\t111.131    \n",
      "75 \t246   \t19.3649\t120.907    \n",
      "76 \t229   \t19.3649\t137.246    \n",
      "77 \t245   \t19.3649\t107.807    \n",
      "78 \t235   \t19.3649\t62.0558    \n",
      "79 \t260   \t19.3649\t71.9259    \n",
      "80 \t249   \t19.3649\t94.7375    \n",
      "81 \t231   \t19.3649\t48.9135    \n",
      "82 \t232   \t19.3649\t65.3628    \n",
      "83 \t247   \t19.3649\t52.185     \n",
      "84 \t244   \t19.3649\t65.2278    \n",
      "85 \t256   \t19.3649\t55.4787    \n",
      "86 \t246   \t19.3649\t71.863     \n",
      "87 \t230   \t19.3649\t52.1445    \n",
      "88 \t238   \t19.3649\t52.1717    \n",
      "89 \t242   \t19.3649\t29.2084    \n",
      "90 \t249   \t19.3649\t39.0591    \n",
      "91 \t244   \t19.3649\t29.2804    \n",
      "92 \t233   \t19.3649\t32.5056    \n",
      "93 \t229   \t19.3649\t42.345     \n",
      "94 \t247   \t19.3649\t35.8356    \n",
      "95 \t237   \t19.3649\t39.0807    \n",
      "96 \t240   \t19.3649\t39.0166    \n",
      "97 \t247   \t19.3649\t39.1309    \n",
      "98 \t253   \t19.3649\t35.8235    \n",
      "99 \t234   \t19.3649\t32.541     \n",
      "100\t253   \t19.3649\t39.0883    \n",
      "101\t245   \t19.3649\t35.7982    \n",
      "102\t262   \t19.3649\t39.0278    \n",
      "103\t241   \t19.3649\t35.774     \n",
      "104\t255   \t19.3649\t48.8871    \n",
      "105\t245   \t19.3649\t61.9587    \n",
      "106\t237   \t19.3649\t42.2988    \n",
      "107\t241   \t19.3649\t42.2781    \n",
      "108\t229   \t19.3649\t32.5131    \n",
      "109\t226   \t19.3649\t39.1209    \n",
      "110\t241   \t19.3649\t58.7054    \n",
      "111\t254   \t19.3649\t42.3701    \n",
      "112\t237   \t19.3649\t35.803     \n",
      "113\t241   \t19.3649\t39.0285    \n",
      "114\t253   \t19.3649\t35.8051    \n",
      "115\t256   \t19.3649\t29.2725    \n",
      "116\t250   \t19.3649\t32.4827    \n",
      "117\t242   \t19.3649\t39.1197    \n",
      "118\t242   \t19.3649\t35.8495    \n",
      "119\t251   \t19.3649\t39.061     \n",
      "120\t237   \t19.3649\t52.1742    \n",
      "121\t247   \t19.3649\t32.5071    \n",
      "122\t230   \t19.3649\t42.3762    \n",
      "123\t238   \t19.3649\t35.7854    \n",
      "124\t249   \t19.3649\t39.0638    \n",
      "125\t243   \t19.3649\t35.8402    \n",
      "126\t253   \t19.3649\t32.4854    \n",
      "127\t246   \t19.3649\t29.221     \n",
      "128\t248   \t19.3649\t42.3376    \n",
      "129\t246   \t19.3649\t52.1968    \n",
      "130\t242   \t19.3649\t42.3362    \n",
      "131\t246   \t19.3649\t25.9923    \n",
      "132\t256   \t19.3649\t39.0649    \n",
      "133\t237   \t19.3649\t39.0752    \n",
      "134\t246   \t19.3649\t42.3393    \n",
      "135\t233   \t19.3649\t45.5827    \n",
      "136\t246   \t19.3649\t52.1559    \n",
      "137\t245   \t19.3649\t55.4494    \n",
      "138\t232   \t19.3649\t55.5186    \n",
      "139\t249   \t19.3649\t32.4864    \n",
      "140\t247   \t19.3649\t32.516     \n",
      "141\t248   \t19.3649\t48.8427    \n",
      "142\t242   \t19.3649\t48.8519    \n",
      "143\t245   \t19.3649\t65.1671    \n",
      "144\t257   \t19.3649\t52.1243    \n",
      "145\t229   \t19.3649\t26.0258    \n",
      "146\t252   \t19.3649\t58.6703    \n",
      "147\t237   \t19.3649\t35.7711    \n",
      "148\t243   \t19.3649\t35.8049    \n",
      "149\t245   \t19.3649\t45.5497    \n",
      "150\t252   \t19.3649\t48.8616    \n",
      "-- Best Individual =  [1, 1, 1, 1, 0, 0, 0, 0, 0, 0, 1, 1, 1, 1, 1, 1, 0, 0, 0, 0, 1, 1, 1, 1, 1, 1, 1, 1, 0, 0, 0, 0, 1, 1, 1, 1, 1, 1, 0, 0, 0, 0, 0, 1, 1, 1, 1, 1, 1, 0, 0, 0, 0, 0, 1, 1, 1, 1, 1, 1, 0, 0, 0, 0, 1, 1, 1, 1, 1, 1, 1, 0, 1, 1, 1, 0, 0, 1, 1, 1, 1, 1, 1, 1, 1, 1, 1, 1, 1, 1, 1, 1, 1, 1, 1, 1, 1, 1, 1, 1, 1, 1, 1, 1]\n",
      "-- Best Fitness =  19.364892394420156\n",
      "\n",
      "(19.365405154216113, 0.6900000000000002)\n",
      "\n",
      "Final Cantilever beam design:\n"
     ]
    },
    {
     "data": {
      "image/png": "[encoded data removed]",
      "text/plain": [
       "<Figure size 320x240 with 1 Axes>"
      ]
     },
     "metadata": {},
     "output_type": "display_data"
    },
    {
     "data": {
      "image/png": "[encoded data removed]",
      "text/plain": [
       "<Figure size 640x480 with 1 Axes>"
      ]
     },
     "metadata": {},
     "output_type": "display_data"
    }
   ],
   "source": [
    "top_=main()"
   ]
  },
  {
   "cell_type": "code",
   "execution_count": 31,
   "id": "8cade32a",
   "metadata": {},
   "outputs": [],
   "source": [
    "class Model:\n",
    "    def __init__(self, x):\n",
    "        self.flag_ = True\n",
    "#         self.flag_ = False\n",
    "        self.n, self.m = x.shape\n",
    "        self.actions_dic={} \n",
    "    \n",
    "        k=0\n",
    "        for i in range(self.n):\n",
    "            for j in range(self.m):\n",
    "                count = 0\n",
    "                if x[i][j]==1:\n",
    "                    \n",
    "                \n",
    "                    if 0<=i+1<self.n and x[i+1][j]==1:\n",
    "                        count+=1\n",
    "                    if 0<=i-1<self.n and x[i-1][j]==1:\n",
    "                        count+=1 \n",
    "                    if 0<=j+1<self.m and x[i][j+1]==1:\n",
    "                        count+=1\n",
    "                    if 0<=j-1<self.m and x[i][j-1]==1:\n",
    "                        count+=1   \n",
    "                \n",
    "                    if count<4:\n",
    "                        self.actions_dic[k]=(i,j)\n",
    "                        k+=1\n",
    "                        \n",
    "                elif  x[i][j]==0:\n",
    "                    x[i][j]+=1e-4\n",
    "        \n",
    "    def action_space_(self, action, X):\n",
    "        x,y=self.actions_dic[action]\n",
    "        X[x][y]=1e-4\n",
    "        \n",
    "    def draw(self,X):  \n",
    "        plt.figure(dpi=50) \n",
    "        print('\\nFinal Cantilever beam design:')\n",
    "        plt.imshow(X) \n",
    "        plt.show()"
   ]
  },
  {
   "cell_type": "code",
   "execution_count": null,
   "id": "acbf544b",
   "metadata": {},
   "outputs": [],
   "source": []
  },
  {
   "cell_type": "code",
   "execution_count": 32,
   "id": "8cc38ec4",
   "metadata": {},
   "outputs": [],
   "source": [
    "class CantileverEnv(gym.Env):\n",
    "    \n",
    "    metadata = {\"render.modes\": [\"human\"]}\n",
    "\n",
    "    def __init__(self,topology, normalized_image: bool = False):\n",
    "        super().__init__()\n",
    "        \n",
    "        \n",
    "        self.rd=0\n",
    "        self.args = get_args(*mbb_beam(rd=self.rd))\n",
    "        \n",
    "#         DIM=self.args.nelx*self.args.nely\n",
    "\n",
    "        self.topology=topology.copy()\n",
    "#         mp, const = fast_stopt(self.args, topology)\n",
    "        self.x = self.topology.copy()\n",
    "#         mp, const = fast_stopt(self.args, self.x)\n",
    "#         print(mp)\n",
    "        self.M=Model(self.x)\n",
    "#         print(len(self.M.actions_dic))\n",
    "\n",
    "        N_DISCRETE_ACTIONS=len(self.M.actions_dic)\n",
    "        \n",
    "        self.action_space = spaces.Discrete(N_DISCRETE_ACTIONS)\n",
    "        self.observation_space = spaces.Box(low=0,\n",
    "                                            high=255,\n",
    "                                            shape=(self.args.nely, self.args.nelx, 1),\n",
    "                                            dtype=np.float64)\n",
    "        \n",
    "        \n",
    "        \n",
    "        self.reward=0\n",
    "        self.step_=0\n",
    "        self.needs_reset = True\n",
    "        \n",
    "    def step(self, action):\n",
    "        \n",
    "        self.args = get_args(*mbb_beam(rd=self.rd))\n",
    "#         print(self.x)\n",
    "        mp, const = fast_stopt(self.args, self.x)\n",
    "#         print(mp)\n",
    "        self.M.action_space_(action, self.x)\n",
    "#         print(self.x)\n",
    "        tmp, const = fast_stopt(self.args, self.x)\n",
    "#         print()\n",
    "#         print(action)\n",
    "        self.step_+=1\n",
    "        \n",
    "        self.reward+=(1/tmp)**2\n",
    "       \n",
    "        done=False\n",
    "                  \n",
    "        if self.step_>self.M.n*self.M.m:\n",
    "            done=True\n",
    "            \n",
    "        if const>0.7:\n",
    "#             self.reward-=1\n",
    "            done=True\n",
    "            \n",
    "        if self.needs_reset:\n",
    "            raise RuntimeError(\"Tried to step environment that needs reset\")\n",
    "            \n",
    "        if done:\n",
    "            self.needs_reset = True\n",
    "                         \n",
    "                \n",
    "#         resized_x = resize(self.x, ( self.args.nely, self.args.nelx), anti_aliasing=True)  \n",
    "#         resized_x = (resized_x * 255).astype(np.uint8).reshape(x0,y0,1)\n",
    "\n",
    "        return self.x.reshape(x0,y0,1), self.reward, done, False, {}\n",
    "\n",
    "    def reset(self, seed=0):\n",
    "        \n",
    "        if not self.M.flag_:\n",
    "            self.rd=random.choice([0,2,-2])\n",
    "        else:\n",
    "            self.rd=-1\n",
    "           \n",
    "        self.x = self.topology.copy()\n",
    "\n",
    "        self.reward=0\n",
    "        self.needs_reset = False\n",
    "        self.step_=0\n",
    "        \n",
    "#         resized_x = resize(self.x, (self.args.nely, self.args.nelx), anti_aliasing=True)\n",
    "#         resized_x = (resized_x * 255).astype(np.uint8).reshape(x0,y0,1)\n",
    "\n",
    "        return self.x.reshape(x0,y0,1), {}\n",
    "\n",
    "    def render(self, mode=\"human\"):\n",
    "        self.M.draw(self.x)    \n",
    "\n",
    "    def close(self):\n",
    "        pass"
   ]
  },
  {
   "cell_type": "code",
   "execution_count": 33,
   "id": "4625682d",
   "metadata": {},
   "outputs": [],
   "source": [
    "class SaveOnBestTrainingRewardCallback(BaseCallback):\n",
    "    \"\"\"\n",
    "    Callback for saving a model (the check is done every ``check_freq`` steps)\n",
    "    based on the training reward (in practice, we recommend using ``EvalCallback``).\n",
    "\n",
    "    :param check_freq: (int)\n",
    "    :param log_dir: (str) Path to the folder where the model will be saved.\n",
    "      It must contains the file created by the ``Monitor`` wrapper.\n",
    "    :param verbose: (int)\n",
    "    \"\"\"\n",
    "\n",
    "    def __init__(self, check_freq: int, log_dir: str, verbose=1):\n",
    "        super().__init__(verbose)\n",
    "        self.check_freq = check_freq\n",
    "        self.log_dir = log_dir\n",
    "        self.save_path = os.path.join(log_dir, \"best_model\")\n",
    "        self.best_mean_reward = -np.inf\n",
    "\n",
    "    def _init_callback(self) -> None:\n",
    "        # Create folder if needed\n",
    "        if self.save_path is not None:\n",
    "            os.makedirs(self.save_path, exist_ok=True)\n",
    "\n",
    "    def _on_step(self) -> bool:\n",
    "        if self.n_calls % self.check_freq == 0:\n",
    "\n",
    "            # Retrieve training reward\n",
    "            x, y = ts2xy(load_results(self.log_dir), \"timesteps\")\n",
    "            if len(x) > 0:\n",
    "                # Mean training reward over the last 100 episodes\n",
    "                mean_reward = np.mean(y[-100:])\n",
    "                if self.verbose > 0:\n",
    "                    print(f\"Num timesteps: {self.num_timesteps}\")\n",
    "                    print(\n",
    "                        f\"Best mean reward: {self.best_mean_reward:.2f} - Last mean reward per episode: {mean_reward:.2f}\"\n",
    "                    )\n",
    "\n",
    "                # New best model, you could save the agent here\n",
    "                if mean_reward > self.best_mean_reward:\n",
    "                    self.best_mean_reward = mean_reward\n",
    "                    # Example for saving best model\n",
    "                    if self.verbose > 0:\n",
    "                        print(f\"Saving new best model to {self.save_path}.zip\")\n",
    "                    self.model.save(self.save_path)\n",
    "\n",
    "        return True"
   ]
  },
  {
   "cell_type": "code",
   "execution_count": 34,
   "id": "1df20925",
   "metadata": {},
   "outputs": [],
   "source": [
    "# ts=5e6\n",
    "ts=0.5e6"
   ]
  },
  {
   "cell_type": "code",
   "execution_count": null,
   "id": "10a56cda",
   "metadata": {},
   "outputs": [],
   "source": []
  },
  {
   "cell_type": "code",
   "execution_count": 35,
   "id": "ba3d3c2e",
   "metadata": {
    "scrolled": true
   },
   "outputs": [
    {
     "name": "stderr",
     "output_type": "stream",
     "text": [
      "/Library/Frameworks/Python.framework/Versions/3.9/lib/python3.9/site-packages/stable_baselines3/common/env_checker.py:30: UserWarning: It seems that your observation  is an image but its `dtype` is (float64) whereas it has to be `np.uint8`. If your observation is not an image, we recommend you to flatten the observation to have only a 1D vector\n",
      "  warnings.warn(\n",
      "/Library/Frameworks/Python.framework/Versions/3.9/lib/python3.9/site-packages/stable_baselines3/common/env_checker.py:51: UserWarning: The minimal resolution for an image is 36x36 for the default `CnnPolicy`. You might need to use a custom features extractor cf. https://stable-baselines3.readthedocs.io/en/master/guide/custom_policy.html\n",
      "  warnings.warn(\n",
      "/Library/Frameworks/Python.framework/Versions/3.9/lib/python3.9/site-packages/gymnasium/core.py:311: UserWarning: \u001b[33mWARN: env.render_mode to get variables from other wrappers is deprecated and will be removed in v1.0, to get this variable you can do `env.unwrapped.render_mode` for environment variables or `env.get_wrapper_attr('render_mode')` that will search the reminding wrappers.\u001b[0m\n",
      "  logger.warn(\n",
      "/Library/Frameworks/Python.framework/Versions/3.9/lib/python3.9/site-packages/stable_baselines3/common/vec_env/base_vec_env.py:77: UserWarning: The `render_mode` attribute is not defined in your environment. It will be set to None.\n",
      "  warnings.warn(\"The `render_mode` attribute is not defined in your environment. It will be set to None.\")\n"
     ]
    }
   ],
   "source": [
    "# Create log dir\n",
    "log_dir = \"/tmp/gym_gen_1/\"\n",
    "os.makedirs(log_dir, exist_ok=True)\n",
    "\n",
    "# Create and wrap the environment\n",
    "env = CantileverEnv(topology=top_)\n",
    "# Logs will be saved in log_dir/monitor.csv\n",
    "env = Monitor(env, log_dir)\n",
    "check_env(env)"
   ]
  },
  {
   "cell_type": "code",
   "execution_count": 36,
   "id": "a974c58a",
   "metadata": {},
   "outputs": [],
   "source": [
    "# callback = SaveOnBestTrainingRewardCallback(check_freq=5000, log_dir=log_dir)\n",
    "callback = SaveOnBestTrainingRewardCallback(check_freq = 10000, log_dir = log_dir)"
   ]
  },
  {
   "cell_type": "code",
   "execution_count": 37,
   "id": "51ddc630",
   "metadata": {},
   "outputs": [
    {
     "name": "stdout",
     "output_type": "stream",
     "text": [
      "Num timesteps: 10000\n",
      "Best mean reward: -inf - Last mean reward per episode: 2.06\n",
      "Saving new best model to /tmp/gym_gen_1/best_model.zip\n",
      "Num timesteps: 20000\n",
      "Best mean reward: 2.06 - Last mean reward per episode: 3.41\n",
      "Saving new best model to /tmp/gym_gen_1/best_model.zip\n",
      "Num timesteps: 30000\n",
      "Best mean reward: 3.41 - Last mean reward per episode: 5.44\n",
      "Saving new best model to /tmp/gym_gen_1/best_model.zip\n",
      "Num timesteps: 40000\n",
      "Best mean reward: 5.44 - Last mean reward per episode: 7.39\n",
      "Saving new best model to /tmp/gym_gen_1/best_model.zip\n",
      "Num timesteps: 50000\n",
      "Best mean reward: 7.39 - Last mean reward per episode: 8.33\n",
      "Saving new best model to /tmp/gym_gen_1/best_model.zip\n",
      "Num timesteps: 60000\n",
      "Best mean reward: 8.33 - Last mean reward per episode: 9.04\n",
      "Saving new best model to /tmp/gym_gen_1/best_model.zip\n",
      "Num timesteps: 70000\n",
      "Best mean reward: 9.04 - Last mean reward per episode: 9.68\n",
      "Saving new best model to /tmp/gym_gen_1/best_model.zip\n",
      "Num timesteps: 80000\n",
      "Best mean reward: 9.68 - Last mean reward per episode: 10.40\n",
      "Saving new best model to /tmp/gym_gen_1/best_model.zip\n",
      "Num timesteps: 90000\n",
      "Best mean reward: 10.40 - Last mean reward per episode: 10.53\n",
      "Saving new best model to /tmp/gym_gen_1/best_model.zip\n",
      "Num timesteps: 100000\n",
      "Best mean reward: 10.53 - Last mean reward per episode: 10.73\n",
      "Saving new best model to /tmp/gym_gen_1/best_model.zip\n",
      "Num timesteps: 110000\n",
      "Best mean reward: 10.73 - Last mean reward per episode: 10.73\n",
      "Saving new best model to /tmp/gym_gen_1/best_model.zip\n",
      "Num timesteps: 120000\n",
      "Best mean reward: 10.73 - Last mean reward per episode: 10.90\n",
      "Saving new best model to /tmp/gym_gen_1/best_model.zip\n",
      "Num timesteps: 130000\n",
      "Best mean reward: 10.90 - Last mean reward per episode: 10.83\n",
      "Num timesteps: 140000\n",
      "Best mean reward: 10.90 - Last mean reward per episode: 10.82\n",
      "Num timesteps: 150000\n",
      "Best mean reward: 10.90 - Last mean reward per episode: 10.94\n",
      "Saving new best model to /tmp/gym_gen_1/best_model.zip\n",
      "Num timesteps: 160000\n",
      "Best mean reward: 10.94 - Last mean reward per episode: 11.05\n",
      "Saving new best model to /tmp/gym_gen_1/best_model.zip\n",
      "Num timesteps: 170000\n",
      "Best mean reward: 11.05 - Last mean reward per episode: 11.38\n",
      "Saving new best model to /tmp/gym_gen_1/best_model.zip\n",
      "Num timesteps: 180000\n",
      "Best mean reward: 11.38 - Last mean reward per episode: 11.53\n",
      "Saving new best model to /tmp/gym_gen_1/best_model.zip\n",
      "Num timesteps: 190000\n",
      "Best mean reward: 11.53 - Last mean reward per episode: 11.63\n",
      "Saving new best model to /tmp/gym_gen_1/best_model.zip\n",
      "Num timesteps: 200000\n",
      "Best mean reward: 11.63 - Last mean reward per episode: 11.95\n",
      "Saving new best model to /tmp/gym_gen_1/best_model.zip\n",
      "Num timesteps: 210000\n",
      "Best mean reward: 11.95 - Last mean reward per episode: 11.98\n",
      "Saving new best model to /tmp/gym_gen_1/best_model.zip\n",
      "Num timesteps: 220000\n",
      "Best mean reward: 11.98 - Last mean reward per episode: 12.10\n",
      "Saving new best model to /tmp/gym_gen_1/best_model.zip\n",
      "Num timesteps: 230000\n",
      "Best mean reward: 12.10 - Last mean reward per episode: 12.14\n",
      "Saving new best model to /tmp/gym_gen_1/best_model.zip\n",
      "Num timesteps: 240000\n",
      "Best mean reward: 12.14 - Last mean reward per episode: 12.09\n",
      "Num timesteps: 250000\n",
      "Best mean reward: 12.14 - Last mean reward per episode: 12.06\n",
      "Num timesteps: 260000\n",
      "Best mean reward: 12.14 - Last mean reward per episode: 12.19\n",
      "Saving new best model to /tmp/gym_gen_1/best_model.zip\n",
      "Num timesteps: 270000\n",
      "Best mean reward: 12.19 - Last mean reward per episode: 12.20\n",
      "Saving new best model to /tmp/gym_gen_1/best_model.zip\n",
      "Num timesteps: 280000\n",
      "Best mean reward: 12.20 - Last mean reward per episode: 12.38\n",
      "Saving new best model to /tmp/gym_gen_1/best_model.zip\n",
      "Num timesteps: 290000\n",
      "Best mean reward: 12.38 - Last mean reward per episode: 12.56\n",
      "Saving new best model to /tmp/gym_gen_1/best_model.zip\n",
      "Num timesteps: 300000\n",
      "Best mean reward: 12.56 - Last mean reward per episode: 12.72\n",
      "Saving new best model to /tmp/gym_gen_1/best_model.zip\n",
      "Num timesteps: 310000\n",
      "Best mean reward: 12.72 - Last mean reward per episode: 12.79\n",
      "Saving new best model to /tmp/gym_gen_1/best_model.zip\n",
      "Num timesteps: 320000\n",
      "Best mean reward: 12.79 - Last mean reward per episode: 12.84\n",
      "Saving new best model to /tmp/gym_gen_1/best_model.zip\n",
      "Num timesteps: 330000\n",
      "Best mean reward: 12.84 - Last mean reward per episode: 12.83\n",
      "Num timesteps: 340000\n",
      "Best mean reward: 12.84 - Last mean reward per episode: 12.80\n",
      "Num timesteps: 350000\n",
      "Best mean reward: 12.84 - Last mean reward per episode: 12.79\n",
      "Num timesteps: 360000\n",
      "Best mean reward: 12.84 - Last mean reward per episode: 12.79\n",
      "Num timesteps: 370000\n",
      "Best mean reward: 12.84 - Last mean reward per episode: 12.81\n",
      "Num timesteps: 380000\n",
      "Best mean reward: 12.84 - Last mean reward per episode: 12.81\n",
      "Num timesteps: 390000\n",
      "Best mean reward: 12.84 - Last mean reward per episode: 12.80\n",
      "Num timesteps: 400000\n",
      "Best mean reward: 12.84 - Last mean reward per episode: 12.80\n",
      "Num timesteps: 410000\n",
      "Best mean reward: 12.84 - Last mean reward per episode: 12.78\n",
      "Num timesteps: 420000\n",
      "Best mean reward: 12.84 - Last mean reward per episode: 12.78\n",
      "Num timesteps: 430000\n",
      "Best mean reward: 12.84 - Last mean reward per episode: 12.78\n",
      "Num timesteps: 440000\n",
      "Best mean reward: 12.84 - Last mean reward per episode: 12.77\n",
      "Num timesteps: 450000\n",
      "Best mean reward: 12.84 - Last mean reward per episode: 12.74\n",
      "Num timesteps: 460000\n",
      "Best mean reward: 12.84 - Last mean reward per episode: 12.76\n",
      "Num timesteps: 470000\n",
      "Best mean reward: 12.84 - Last mean reward per episode: 12.76\n",
      "Num timesteps: 480000\n",
      "Best mean reward: 12.84 - Last mean reward per episode: 12.77\n",
      "Num timesteps: 490000\n",
      "Best mean reward: 12.84 - Last mean reward per episode: 12.78\n",
      "Num timesteps: 500000\n",
      "Best mean reward: 12.84 - Last mean reward per episode: 12.75\n"
     ]
    }
   ],
   "source": [
    "start = time.time()\n",
    "model = PPO(\"MlpPolicy\", env).learn(total_timesteps=ts, callback=callback)\n",
    "# model = PPO.load(log_dir + \"best_model.zip\", env=env).learn(total_timesteps=ts, callback=callback)\n",
    "end = time.time()   "
   ]
  },
  {
   "cell_type": "code",
   "execution_count": 38,
   "id": "c54f5198",
   "metadata": {},
   "outputs": [
    {
     "name": "stdout",
     "output_type": "stream",
     "text": [
      "Total time taken: 25.750279235839844 min\n"
     ]
    }
   ],
   "source": [
    "print('Total time taken: {} min'.format((end - start)/60))"
   ]
  },
  {
   "cell_type": "markdown",
   "id": "a302515e",
   "metadata": {},
   "source": [
    "### Inference"
   ]
  },
  {
   "cell_type": "code",
   "execution_count": 39,
   "id": "478e057d",
   "metadata": {},
   "outputs": [
    {
     "name": "stderr",
     "output_type": "stream",
     "text": [
      "/Library/Frameworks/Python.framework/Versions/3.9/lib/python3.9/site-packages/gymnasium/core.py:311: UserWarning: \u001b[33mWARN: env.M to get variables from other wrappers is deprecated and will be removed in v1.0, to get this variable you can do `env.unwrapped.M` for environment variables or `env.get_wrapper_attr('M')` that will search the reminding wrappers.\u001b[0m\n",
      "  logger.warn(\n"
     ]
    }
   ],
   "source": [
    "# env.M.flag_=True\n",
    "env.M.flag_=False\n",
    "obs=env.reset()\n",
    "obs=obs[0]"
   ]
  },
  {
   "cell_type": "code",
   "execution_count": 40,
   "id": "619bea17",
   "metadata": {},
   "outputs": [],
   "source": [
    "i=0\n",
    "while i<2000:\n",
    "    action, _states = model.predict(obs)\n",
    "    obs, rewards, dones, _ , info = env.step(int(action))\n",
    "    if dones: \n",
    "        break\n",
    "    i+=1"
   ]
  },
  {
   "cell_type": "code",
   "execution_count": 41,
   "id": "eb8a858a",
   "metadata": {},
   "outputs": [
    {
     "name": "stdout",
     "output_type": "stream",
     "text": [
      "100\n"
     ]
    }
   ],
   "source": [
    "print(i)"
   ]
  },
  {
   "cell_type": "code",
   "execution_count": 42,
   "id": "4c14297f",
   "metadata": {},
   "outputs": [
    {
     "name": "stderr",
     "output_type": "stream",
     "text": [
      "/Library/Frameworks/Python.framework/Versions/3.9/lib/python3.9/site-packages/gymnasium/core.py:311: UserWarning: \u001b[33mWARN: env.args to get variables from other wrappers is deprecated and will be removed in v1.0, to get this variable you can do `env.unwrapped.args` for environment variables or `env.get_wrapper_attr('args')` that will search the reminding wrappers.\u001b[0m\n",
      "  logger.warn(\n",
      "/Library/Frameworks/Python.framework/Versions/3.9/lib/python3.9/site-packages/gymnasium/core.py:311: UserWarning: \u001b[33mWARN: env.x to get variables from other wrappers is deprecated and will be removed in v1.0, to get this variable you can do `env.unwrapped.x` for environment variables or `env.get_wrapper_attr('x')` that will search the reminding wrappers.\u001b[0m\n",
      "  logger.warn(\n"
     ]
    },
    {
     "data": {
      "text/plain": [
       "(8600.725328025297, 0.6600030000000001)"
      ]
     },
     "execution_count": 42,
     "metadata": {},
     "output_type": "execute_result"
    }
   ],
   "source": [
    "fast_stopt(env.args, env.x)"
   ]
  },
  {
   "cell_type": "code",
   "execution_count": 43,
   "id": "9de968d4",
   "metadata": {},
   "outputs": [
    {
     "name": "stdout",
     "output_type": "stream",
     "text": [
      "\n",
      "Final Cantilever beam design:\n"
     ]
    },
    {
     "data": {
      "image/png": "[encoded data removed]",
      "text/plain": [
       "<Figure size 320x240 with 1 Axes>"
      ]
     },
     "metadata": {},
     "output_type": "display_data"
    }
   ],
   "source": [
    "env.render()"
   ]
  },
  {
   "cell_type": "code",
   "execution_count": 44,
   "id": "c886f680",
   "metadata": {},
   "outputs": [
    {
     "data": {
      "image/png": "[encoded data removed]",
      "text/plain": [
       "<Figure size 800x200 with 1 Axes>"
      ]
     },
     "metadata": {},
     "output_type": "display_data"
    }
   ],
   "source": [
    "results_plotter.plot_results([log_dir], ts, results_plotter.X_TIMESTEPS, \"CantileverEnv\")"
   ]
  },
  {
   "cell_type": "code",
   "execution_count": 75,
   "id": "33e20c23",
   "metadata": {},
   "outputs": [],
   "source": [
    "obs=env.reset()\n",
    "obs=obs[0]"
   ]
  },
  {
   "cell_type": "code",
   "execution_count": 76,
   "id": "89d2966e",
   "metadata": {},
   "outputs": [],
   "source": [
    "# Load the agent\n",
    "model_best = PPO.load(log_dir + \"best_model.zip\", env=env)"
   ]
  },
  {
   "cell_type": "code",
   "execution_count": 77,
   "id": "2defbd14",
   "metadata": {},
   "outputs": [
    {
     "name": "stdout",
     "output_type": "stream",
     "text": [
      "6\n",
      "6\n",
      "6\n",
      "6\n",
      "17\n",
      "6\n",
      "6\n",
      "6\n",
      "6\n",
      "6\n",
      "6\n",
      "6\n",
      "6\n",
      "6\n",
      "6\n",
      "6\n",
      "6\n",
      "6\n",
      "6\n",
      "6\n",
      "6\n",
      "6\n",
      "6\n",
      "17\n",
      "6\n",
      "6\n",
      "6\n",
      "6\n",
      "6\n",
      "6\n",
      "6\n",
      "6\n",
      "6\n",
      "6\n",
      "6\n",
      "6\n",
      "6\n",
      "6\n",
      "6\n",
      "6\n",
      "6\n",
      "6\n",
      "6\n",
      "17\n",
      "6\n",
      "6\n",
      "6\n",
      "6\n",
      "6\n",
      "6\n",
      "6\n",
      "6\n",
      "6\n",
      "6\n",
      "6\n",
      "6\n",
      "6\n",
      "6\n",
      "6\n",
      "6\n",
      "6\n",
      "6\n",
      "6\n",
      "6\n",
      "6\n",
      "6\n",
      "6\n",
      "6\n",
      "6\n",
      "6\n",
      "6\n",
      "17\n",
      "6\n",
      "6\n",
      "6\n",
      "6\n",
      "6\n",
      "6\n",
      "6\n",
      "6\n",
      "6\n",
      "6\n",
      "17\n",
      "6\n",
      "6\n",
      "6\n",
      "6\n",
      "6\n",
      "6\n",
      "6\n",
      "6\n",
      "6\n",
      "6\n",
      "6\n",
      "6\n",
      "6\n",
      "6\n",
      "6\n",
      "6\n",
      "6\n",
      "6\n"
     ]
    }
   ],
   "source": [
    "i=0\n",
    "while i<2000:\n",
    "    action, _states = model_best.predict(obs)\n",
    "    print(action)\n",
    "    obs, rewards, dones, _ , info = env.step(int(action))\n",
    "    if dones:\n",
    "        break\n",
    "    i+=1"
   ]
  },
  {
   "cell_type": "code",
   "execution_count": 78,
   "id": "5a69ed7f",
   "metadata": {},
   "outputs": [
    {
     "data": {
      "text/plain": [
       "100"
      ]
     },
     "execution_count": 78,
     "metadata": {},
     "output_type": "execute_result"
    }
   ],
   "source": [
    "i"
   ]
  },
  {
   "cell_type": "code",
   "execution_count": 79,
   "id": "30e849f9",
   "metadata": {},
   "outputs": [
    {
     "name": "stdout",
     "output_type": "stream",
     "text": [
      "\n",
      "Final Cantilever beam design:\n"
     ]
    },
    {
     "data": {
      "image/png": "[encoded data removed]",
      "text/plain": [
       "<Figure size 320x240 with 1 Axes>"
      ]
     },
     "metadata": {},
     "output_type": "display_data"
    }
   ],
   "source": [
    "env.render()"
   ]
  },
  {
   "cell_type": "code",
   "execution_count": 80,
   "id": "1b6c3009",
   "metadata": {},
   "outputs": [],
   "source": [
    "# https://stable-baselines3.readthedocs.io/en/master/guide/save_format.html"
   ]
  },
  {
   "cell_type": "code",
   "execution_count": 81,
   "id": "fe5d5544",
   "metadata": {},
   "outputs": [
    {
     "data": {
      "text/plain": [
       "(18.08989750599954, 0.6700020000000001)"
      ]
     },
     "execution_count": 81,
     "metadata": {},
     "output_type": "execute_result"
    }
   ],
   "source": [
    "fast_stopt(env.args, env.x)"
   ]
  },
  {
   "cell_type": "code",
   "execution_count": null,
   "id": "f2230061",
   "metadata": {},
   "outputs": [],
   "source": []
  },
  {
   "cell_type": "code",
   "execution_count": null,
   "id": "c5425186",
   "metadata": {},
   "outputs": [],
   "source": []
  },
  {
   "cell_type": "code",
   "execution_count": null,
   "id": "28db1f6e",
   "metadata": {},
   "outputs": [],
   "source": []
  }
 ],
 "metadata": {
  "kernelspec": {
   "display_name": "Python 3 (ipykernel)",
   "language": "python",
   "name": "python3"
  },
  "language_info": {
   "codemirror_mode": {
    "name": "ipython",
    "version": 3
   },
   "file_extension": ".py",
   "mimetype": "text/x-python",
   "name": "python",
   "nbconvert_exporter": "python",
   "pygments_lexer": "ipython3",
   "version": "3.9.6"
  }
 },
 "nbformat": 4,
 "nbformat_minor": 5
}
